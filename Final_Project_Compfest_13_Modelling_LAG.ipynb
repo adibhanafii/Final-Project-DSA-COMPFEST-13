{
  "nbformat": 4,
  "nbformat_minor": 5,
  "metadata": {
    "kernelspec": {
      "display_name": "Python 3",
      "language": "python",
      "name": "python3"
    },
    "language_info": {
      "codemirror_mode": {
        "name": "ipython",
        "version": 3
      },
      "file_extension": ".py",
      "mimetype": "text/x-python",
      "name": "python",
      "nbconvert_exporter": "python",
      "pygments_lexer": "ipython3",
      "version": "3.8.8"
    },
    "colab": {
      "name": "Final Project Compfest 13 - Modelling LAG.ipynb",
      "provenance": []
    }
  },
  "cells": [
    {
      "cell_type": "code",
      "metadata": {
        "id": "f7e08bf7"
      },
      "source": [
        "import pandas as pd\n",
        "import numpy as np\n",
        "import matplotlib.pyplot as plt\n",
        "import seaborn as sns\n",
        "pd.set_option('display.max_columns',None)\n",
        "import warnings \n",
        "warnings.filterwarnings('ignore')"
      ],
      "id": "f7e08bf7",
      "execution_count": 2,
      "outputs": []
    },
    {
      "cell_type": "code",
      "metadata": {
        "id": "8486c239"
      },
      "source": [
        "df = pd.read_excel('/content/drive/MyDrive/Coba cek 2021.xlsx')"
      ],
      "id": "8486c239",
      "execution_count": 3,
      "outputs": []
    },
    {
      "cell_type": "code",
      "metadata": {
        "id": "0dc2bd22"
      },
      "source": [
        "df = df.iloc[:,1:]"
      ],
      "id": "0dc2bd22",
      "execution_count": 4,
      "outputs": []
    },
    {
      "cell_type": "code",
      "metadata": {
        "id": "f91b8485",
        "colab": {
          "base_uri": "https://localhost:8080/"
        },
        "outputId": "a8ad1514-a95b-4263-e190-a97083edc4f3"
      },
      "source": [
        "df.duplicated().any()"
      ],
      "id": "f91b8485",
      "execution_count": 5,
      "outputs": [
        {
          "output_type": "execute_result",
          "data": {
            "text/plain": [
              "False"
            ]
          },
          "metadata": {},
          "execution_count": 5
        }
      ]
    },
    {
      "cell_type": "code",
      "source": [
        "from google.colab import drive\n",
        "drive.mount('/content/drive')"
      ],
      "metadata": {
        "colab": {
          "base_uri": "https://localhost:8080/"
        },
        "id": "SWy64mwSiI2u",
        "outputId": "4f19c14b-2ba7-455b-b24c-26a82ba621ec"
      },
      "id": "SWy64mwSiI2u",
      "execution_count": 6,
      "outputs": [
        {
          "output_type": "stream",
          "name": "stdout",
          "text": [
            "Drive already mounted at /content/drive; to attempt to forcibly remount, call drive.mount(\"/content/drive\", force_remount=True).\n"
          ]
        }
      ]
    },
    {
      "cell_type": "code",
      "metadata": {
        "id": "0f4bf273",
        "colab": {
          "base_uri": "https://localhost:8080/"
        },
        "outputId": "a3cbd6d0-9ef8-459a-dad2-936aaf957dfe"
      },
      "source": [
        "df.isnull().sum()"
      ],
      "id": "0f4bf273",
      "execution_count": 7,
      "outputs": [
        {
          "output_type": "execute_result",
          "data": {
            "text/plain": [
              "Tanggal                                               0\n",
              "Meninggal Harian (Jakarta)                            0\n",
              "Sembuh Harian (Jakarta)                               0\n",
              "Self-Isolation Harian (Jakarta)                       0\n",
              "Dirawat Harian (Jakarta)                              0\n",
              "Positif Harian (Jakarta)                              0\n",
              "Positif Aktif Harian (Jakarta)                        0\n",
              "retail_and_recreation_percent_change_from_baseline    0\n",
              "grocery_and_pharmacy_percent_change_from_baseline     0\n",
              "parks_percent_change_from_baseline                    0\n",
              "transit_stations_percent_change_from_baseline         0\n",
              "workplaces_percent_change_from_baseline               0\n",
              "residential_percent_change_from_baseline              0\n",
              "Vaksinasi 1_TenagaKesehatanDKI                        0\n",
              "Vaksinasi 2_TenagaKesehatanDKI                        0\n",
              "Vaksinasi 1_LansiaDKI                                 0\n",
              "Vaksinasi 2_LansiaDKI                                 0\n",
              "Vaksinasi 1_PelayananPublikDKI                        0\n",
              "Vaksinasi 2_PelayananPublikDKI                        0\n",
              "Vaksinasi 1_TotalDKIjkt                               0\n",
              "Vaksinasi 2_TotalDKIjkt                               0\n",
              "Vaksinasi 1_HarianDKI                                 0\n",
              "Vaksinasi 2_HarianDKI                                 0\n",
              "Vaksinasi 1_18-59 tahunDKI                            0\n",
              "Vaksinasi 2_18-59 tahunDKI                            0\n",
              "Vaksin Gtg Ryg 1_DKI                                  0\n",
              "Vaksin Gtg Ryg 2_DKI                                  0\n",
              "Jumlah Orang di Test                                  0\n",
              "Orang Positif Harian                                  0\n",
              "Orang Negatif Harian                                  0\n",
              "Positivity Rate Kasus Baru Harian                     0\n",
              "LABEL                                                 0\n",
              "dtype: int64"
            ]
          },
          "metadata": {},
          "execution_count": 7
        }
      ]
    },
    {
      "cell_type": "markdown",
      "metadata": {
        "id": "175f917b"
      },
      "source": [
        "## Data Understanding\n",
        "### Making Plots"
      ],
      "id": "175f917b"
    },
    {
      "cell_type": "code",
      "metadata": {
        "id": "c2fa7bb3",
        "colab": {
          "base_uri": "https://localhost:8080/",
          "height": 338
        },
        "outputId": "2ebd252b-1335-4d7a-cf8b-562f7e999a57"
      },
      "source": [
        "plt.hist(df['Meninggal Harian (Jakarta)'])"
      ],
      "id": "c2fa7bb3",
      "execution_count": 8,
      "outputs": [
        {
          "output_type": "execute_result",
          "data": {
            "text/plain": [
              "(array([113.,  74.,  23.,   6.,   3.,   5.,   5.,   2.,   0.,   2.]),\n",
              " array([  0. ,  26.5,  53. ,  79.5, 106. , 132.5, 159. , 185.5, 212. ,\n",
              "        238.5, 265. ]),\n",
              " <a list of 10 Patch objects>)"
            ]
          },
          "metadata": {},
          "execution_count": 8
        },
        {
          "output_type": "display_data",
          "data": {
            "image/png": "[encoded data removed]",
            "text/plain": [
              "<Figure size 432x288 with 1 Axes>"
            ]
          },
          "metadata": {
            "needs_background": "light"
          }
        }
      ]
    },
    {
      "cell_type": "code",
      "metadata": {
        "id": "a43cdabf",
        "colab": {
          "base_uri": "https://localhost:8080/",
          "height": 338
        },
        "outputId": "e3e94bd9-35ad-4770-d00b-cd124f8ece37"
      },
      "source": [
        "plt.hist(df['Sembuh Harian (Jakarta)'])"
      ],
      "id": "a43cdabf",
      "execution_count": 9,
      "outputs": [
        {
          "output_type": "execute_result",
          "data": {
            "text/plain": [
              "(array([141.,  55.,  16.,   1.,   1.,   9.,   2.,   5.,   1.,   2.]),\n",
              " array([  128. ,  2172.2,  4216.4,  6260.6,  8304.8, 10349. , 12393.2,\n",
              "        14437.4, 16481.6, 18525.8, 20570. ]),\n",
              " <a list of 10 Patch objects>)"
            ]
          },
          "metadata": {},
          "execution_count": 9
        },
        {
          "output_type": "display_data",
          "data": {
            "image/png": "[encoded data removed]",
            "text/plain": [
              "<Figure size 432x288 with 1 Axes>"
            ]
          },
          "metadata": {
            "needs_background": "light"
          }
        }
      ]
    },
    {
      "cell_type": "code",
      "metadata": {
        "id": "9dff2b71",
        "colab": {
          "base_uri": "https://localhost:8080/",
          "height": 320
        },
        "outputId": "0ff11aa5-96fc-4874-dd3a-d41aef6ec0f3"
      },
      "source": [
        "plt.hist(df['Self-Isolation Harian (Jakarta)'])\n",
        "print(df['Self-Isolation Harian (Jakarta)'].mean())\n",
        "print(df['Self-Isolation Harian (Jakarta)'].median())\n",
        "print(df['Self-Isolation Harian (Jakarta)'].mode()[0])"
      ],
      "id": "9dff2b71",
      "execution_count": 10,
      "outputs": [
        {
          "output_type": "stream",
          "name": "stdout",
          "text": [
            "-17.94420600858369\n",
            "33.0\n",
            "210\n"
          ]
        },
        {
          "output_type": "display_data",
          "data": {
            "image/png": "[encoded data removed]",
            "text/plain": [
              "<Figure size 432x288 with 1 Axes>"
            ]
          },
          "metadata": {
            "needs_background": "light"
          }
        }
      ]
    },
    {
      "cell_type": "code",
      "metadata": {
        "id": "e2e210c0",
        "colab": {
          "base_uri": "https://localhost:8080/",
          "height": 341
        },
        "outputId": "893adb64-b506-4ee6-cbd7-080bd4ea0b25"
      },
      "source": [
        "plt.hist(df['Dirawat Harian (Jakarta)'],bins=100)\n",
        "print(df['Dirawat Harian (Jakarta)'].mean())\n",
        "print(df['Dirawat Harian (Jakarta)'].median())\n",
        "print(df['Dirawat Harian (Jakarta)'].mode()[0])\n",
        "print(df['Dirawat Harian (Jakarta)'].skew())"
      ],
      "id": "e2e210c0",
      "execution_count": 11,
      "outputs": [
        {
          "output_type": "stream",
          "name": "stdout",
          "text": [
            "-11.253218884120171\n",
            "17.0\n",
            "-374\n",
            "-1.0030434601407632\n"
          ]
        },
        {
          "output_type": "display_data",
          "data": {
            "image/png": "[encoded data removed]",
            "text/plain": [
              "<Figure size 432x288 with 1 Axes>"
            ]
          },
          "metadata": {
            "needs_background": "light"
          }
        }
      ]
    },
    {
      "cell_type": "code",
      "metadata": {
        "id": "305292c8",
        "colab": {
          "base_uri": "https://localhost:8080/",
          "height": 320
        },
        "outputId": "df9ae77e-e44c-4cfa-a93f-9e8bc7224026"
      },
      "source": [
        "plt.hist(df['Positif Harian (Jakarta)'])\n",
        "print(df['Positif Harian (Jakarta)'].mean())\n",
        "print(df['Positif Harian (Jakarta)'].median())\n",
        "print(df['Positif Harian (Jakarta)'].mode()[0])"
      ],
      "id": "305292c8",
      "execution_count": 12,
      "outputs": [
        {
          "output_type": "stream",
          "name": "stdout",
          "text": [
            "2839.0343347639487\n",
            "1726.0\n",
            "384\n"
          ]
        },
        {
          "output_type": "display_data",
          "data": {
            "image/png": "[encoded data removed]",
            "text/plain": [
              "<Figure size 432x288 with 1 Axes>"
            ]
          },
          "metadata": {
            "needs_background": "light"
          }
        }
      ]
    },
    {
      "cell_type": "code",
      "metadata": {
        "id": "996df942",
        "colab": {
          "base_uri": "https://localhost:8080/",
          "height": 320
        },
        "outputId": "c6b12516-d3f2-4cd7-fc4d-1d8bcc90a5a6"
      },
      "source": [
        "plt.hist(df['Positif Aktif Harian (Jakarta)'])\n",
        "print(df['Positif Aktif Harian (Jakarta)'].mean())\n",
        "print(df['Positif Aktif Harian (Jakarta)'].median())\n",
        "print(df['Positif Aktif Harian (Jakarta)'].mode()[0])"
      ],
      "id": "996df942",
      "execution_count": 13,
      "outputs": [
        {
          "output_type": "stream",
          "name": "stdout",
          "text": [
            "-29.197424892703864\n",
            "42.0\n",
            "-1985\n"
          ]
        },
        {
          "output_type": "display_data",
          "data": {
            "image/png": "[encoded data removed]",
            "text/plain": [
              "<Figure size 432x288 with 1 Axes>"
            ]
          },
          "metadata": {
            "needs_background": "light"
          }
        }
      ]
    },
    {
      "cell_type": "code",
      "metadata": {
        "id": "1818f005",
        "colab": {
          "base_uri": "https://localhost:8080/",
          "height": 320
        },
        "outputId": "f440ad4d-2024-4e2d-fdf8-629ca3dedf10"
      },
      "source": [
        "plt.hist(df['Sembuh Harian (Jakarta)'])\n",
        "print(df['Sembuh Harian (Jakarta)'].mean())\n",
        "print(df['Sembuh Harian (Jakarta)'].median())\n",
        "print(df['Sembuh Harian (Jakarta)'].mode()[0])"
      ],
      "id": "1818f005",
      "execution_count": 14,
      "outputs": [
        {
          "output_type": "stream",
          "name": "stdout",
          "text": [
            "2825.892703862661\n",
            "1631.0\n",
            "526\n"
          ]
        },
        {
          "output_type": "display_data",
          "data": {
            "image/png": "[encoded data removed]",
            "text/plain": [
              "<Figure size 432x288 with 1 Axes>"
            ]
          },
          "metadata": {
            "needs_background": "light"
          }
        }
      ]
    },
    {
      "cell_type": "code",
      "metadata": {
        "id": "b7f5d8fa",
        "colab": {
          "base_uri": "https://localhost:8080/",
          "height": 339
        },
        "outputId": "b5832a1c-de5f-4f2f-c53b-900080797a9f"
      },
      "source": [
        "plt.hist(df['retail_and_recreation_percent_change_from_baseline'])\n",
        "print(df['retail_and_recreation_percent_change_from_baseline'].mean())\n",
        "print(df['retail_and_recreation_percent_change_from_baseline'].median())\n",
        "print(df['retail_and_recreation_percent_change_from_baseline'].mode()[0])\n",
        "print(df['retail_and_recreation_percent_change_from_baseline'].skew())"
      ],
      "id": "b7f5d8fa",
      "execution_count": 15,
      "outputs": [
        {
          "output_type": "stream",
          "name": "stdout",
          "text": [
            "-29.61802575107296\n",
            "-29.0\n",
            "-28\n",
            "-0.19695299556654244\n"
          ]
        },
        {
          "output_type": "display_data",
          "data": {
            "image/png": "[encoded data removed]",
            "text/plain": [
              "<Figure size 432x288 with 1 Axes>"
            ]
          },
          "metadata": {
            "needs_background": "light"
          }
        }
      ]
    },
    {
      "cell_type": "code",
      "metadata": {
        "id": "665a86ac",
        "colab": {
          "base_uri": "https://localhost:8080/",
          "height": 320
        },
        "outputId": "de8012eb-4988-4dd4-bcf7-3ebcd409ff5d"
      },
      "source": [
        "plt.hist(df['grocery_and_pharmacy_percent_change_from_baseline'])\n",
        "print(df['grocery_and_pharmacy_percent_change_from_baseline'].mean())\n",
        "print(df['grocery_and_pharmacy_percent_change_from_baseline'].median())\n",
        "print(df['grocery_and_pharmacy_percent_change_from_baseline'].mode()[0])"
      ],
      "id": "665a86ac",
      "execution_count": 16,
      "outputs": [
        {
          "output_type": "stream",
          "name": "stdout",
          "text": [
            "-4.536480686695279\n",
            "-5.0\n",
            "-5\n"
          ]
        },
        {
          "output_type": "display_data",
          "data": {
            "image/png": "[encoded data removed]",
            "text/plain": [
              "<Figure size 432x288 with 1 Axes>"
            ]
          },
          "metadata": {
            "needs_background": "light"
          }
        }
      ]
    },
    {
      "cell_type": "code",
      "metadata": {
        "id": "39018094",
        "colab": {
          "base_uri": "https://localhost:8080/",
          "height": 320
        },
        "outputId": "43263827-fbc6-45b3-beb7-f016d4444dc1"
      },
      "source": [
        "plt.hist(df['parks_percent_change_from_baseline'])\n",
        "print(df['parks_percent_change_from_baseline'].mean())\n",
        "print(df['parks_percent_change_from_baseline'].median())\n",
        "print(df['parks_percent_change_from_baseline'].mode()[0])"
      ],
      "id": "39018094",
      "execution_count": 17,
      "outputs": [
        {
          "output_type": "stream",
          "name": "stdout",
          "text": [
            "-48.33905579399141\n",
            "-49.0\n",
            "-56\n"
          ]
        },
        {
          "output_type": "display_data",
          "data": {
            "image/png": "[encoded data removed]",
            "text/plain": [
              "<Figure size 432x288 with 1 Axes>"
            ]
          },
          "metadata": {
            "needs_background": "light"
          }
        }
      ]
    },
    {
      "cell_type": "code",
      "metadata": {
        "id": "dca8287b",
        "colab": {
          "base_uri": "https://localhost:8080/",
          "height": 320
        },
        "outputId": "fe8af69e-3852-4022-cd4b-079c08c529eb"
      },
      "source": [
        "\n",
        "plt.hist(df['transit_stations_percent_change_from_baseline'])\n",
        "print(df['transit_stations_percent_change_from_baseline'].mean())\n",
        "print(df['transit_stations_percent_change_from_baseline'].median())\n",
        "print(df['transit_stations_percent_change_from_baseline'].mode()[0])"
      ],
      "id": "dca8287b",
      "execution_count": 18,
      "outputs": [
        {
          "output_type": "stream",
          "name": "stdout",
          "text": [
            "-40.60515021459227\n",
            "-40.0\n",
            "-38\n"
          ]
        },
        {
          "output_type": "display_data",
          "data": {
            "image/png": "[encoded data removed]",
            "text/plain": [
              "<Figure size 432x288 with 1 Axes>"
            ]
          },
          "metadata": {
            "needs_background": "light"
          }
        }
      ]
    },
    {
      "cell_type": "code",
      "metadata": {
        "id": "bd1d8778",
        "colab": {
          "base_uri": "https://localhost:8080/"
        },
        "outputId": "427317b4-e02c-4ce9-a262-bd805a7e17e9"
      },
      "source": [
        "df.info()"
      ],
      "id": "bd1d8778",
      "execution_count": 19,
      "outputs": [
        {
          "output_type": "stream",
          "name": "stdout",
          "text": [
            "<class 'pandas.core.frame.DataFrame'>\n",
            "RangeIndex: 233 entries, 0 to 232\n",
            "Data columns (total 32 columns):\n",
            " #   Column                                              Non-Null Count  Dtype         \n",
            "---  ------                                              --------------  -----         \n",
            " 0   Tanggal                                             233 non-null    datetime64[ns]\n",
            " 1   Meninggal Harian (Jakarta)                          233 non-null    int64         \n",
            " 2   Sembuh Harian (Jakarta)                             233 non-null    int64         \n",
            " 3   Self-Isolation Harian (Jakarta)                     233 non-null    int64         \n",
            " 4   Dirawat Harian (Jakarta)                            233 non-null    int64         \n",
            " 5   Positif Harian (Jakarta)                            233 non-null    int64         \n",
            " 6   Positif Aktif Harian (Jakarta)                      233 non-null    int64         \n",
            " 7   retail_and_recreation_percent_change_from_baseline  233 non-null    int64         \n",
            " 8   grocery_and_pharmacy_percent_change_from_baseline   233 non-null    int64         \n",
            " 9   parks_percent_change_from_baseline                  233 non-null    int64         \n",
            " 10  transit_stations_percent_change_from_baseline       233 non-null    int64         \n",
            " 11  workplaces_percent_change_from_baseline             233 non-null    int64         \n",
            " 12  residential_percent_change_from_baseline            233 non-null    int64         \n",
            " 13  Vaksinasi 1_TenagaKesehatanDKI                      233 non-null    int64         \n",
            " 14  Vaksinasi 2_TenagaKesehatanDKI                      233 non-null    int64         \n",
            " 15  Vaksinasi 1_LansiaDKI                               233 non-null    int64         \n",
            " 16  Vaksinasi 2_LansiaDKI                               233 non-null    int64         \n",
            " 17  Vaksinasi 1_PelayananPublikDKI                      233 non-null    int64         \n",
            " 18  Vaksinasi 2_PelayananPublikDKI                      233 non-null    int64         \n",
            " 19  Vaksinasi 1_TotalDKIjkt                             233 non-null    int64         \n",
            " 20  Vaksinasi 2_TotalDKIjkt                             233 non-null    int64         \n",
            " 21  Vaksinasi 1_HarianDKI                               233 non-null    int64         \n",
            " 22  Vaksinasi 2_HarianDKI                               233 non-null    int64         \n",
            " 23  Vaksinasi 1_18-59 tahunDKI                          233 non-null    int64         \n",
            " 24  Vaksinasi 2_18-59 tahunDKI                          233 non-null    int64         \n",
            " 25  Vaksin Gtg Ryg 1_DKI                                233 non-null    int64         \n",
            " 26  Vaksin Gtg Ryg 2_DKI                                233 non-null    int64         \n",
            " 27  Jumlah Orang di Test                                233 non-null    int64         \n",
            " 28  Orang Positif Harian                                233 non-null    int64         \n",
            " 29  Orang Negatif Harian                                233 non-null    int64         \n",
            " 30  Positivity Rate Kasus Baru Harian                   233 non-null    float64       \n",
            " 31  LABEL                                               233 non-null    object        \n",
            "dtypes: datetime64[ns](1), float64(1), int64(29), object(1)\n",
            "memory usage: 58.4+ KB\n"
          ]
        }
      ]
    },
    {
      "cell_type": "code",
      "metadata": {
        "id": "87d9425a",
        "colab": {
          "base_uri": "https://localhost:8080/",
          "height": 320
        },
        "outputId": "8efc45c6-7d18-40ae-88b5-0ecacce21ce1"
      },
      "source": [
        "plt.hist(df['workplaces_percent_change_from_baseline'])\n",
        "print(df['workplaces_percent_change_from_baseline'].mean())\n",
        "print(df['workplaces_percent_change_from_baseline'].median())\n",
        "print(df['workplaces_percent_change_from_baseline'].mode()[0])"
      ],
      "id": "87d9425a",
      "execution_count": 20,
      "outputs": [
        {
          "output_type": "stream",
          "name": "stdout",
          "text": [
            "-32.927038626609445\n",
            "-32.0\n",
            "-29\n"
          ]
        },
        {
          "output_type": "display_data",
          "data": {
            "image/png": "[encoded data removed]",
            "text/plain": [
              "<Figure size 432x288 with 1 Axes>"
            ]
          },
          "metadata": {
            "needs_background": "light"
          }
        }
      ]
    },
    {
      "cell_type": "code",
      "metadata": {
        "id": "303e0533"
      },
      "source": [
        "# plt.hist(df[''])\n",
        "# print(df[''].mean())\n",
        "# print(df[''].median())\n",
        "# print(df[''].mode()[0])"
      ],
      "id": "303e0533",
      "execution_count": 21,
      "outputs": []
    },
    {
      "cell_type": "code",
      "metadata": {
        "id": "a78625ab",
        "colab": {
          "base_uri": "https://localhost:8080/",
          "height": 320
        },
        "outputId": "26387f8f-711a-4f1e-cc1b-c37b18d45672"
      },
      "source": [
        "plt.hist(df['residential_percent_change_from_baseline'])\n",
        "print(df['residential_percent_change_from_baseline'].mean())\n",
        "print(df['residential_percent_change_from_baseline'].median())\n",
        "print(df['residential_percent_change_from_baseline'].mode()[0])"
      ],
      "id": "a78625ab",
      "execution_count": 22,
      "outputs": [
        {
          "output_type": "stream",
          "name": "stdout",
          "text": [
            "11.84549356223176\n",
            "11.0\n",
            "10\n"
          ]
        },
        {
          "output_type": "display_data",
          "data": {
            "image/png": "[encoded data removed]",
            "text/plain": [
              "<Figure size 432x288 with 1 Axes>"
            ]
          },
          "metadata": {
            "needs_background": "light"
          }
        }
      ]
    },
    {
      "cell_type": "code",
      "metadata": {
        "id": "2d80166a",
        "colab": {
          "base_uri": "https://localhost:8080/",
          "height": 320
        },
        "outputId": "99cf909f-f357-440e-e11e-ad4ad7cf1554"
      },
      "source": [
        "plt.hist(df['Vaksinasi 1_TenagaKesehatanDKI'])\n",
        "print(df['Vaksinasi 1_TenagaKesehatanDKI'].mean())\n",
        "print(df['Vaksinasi 1_TenagaKesehatanDKI'].median())\n",
        "print(df['Vaksinasi 1_TenagaKesehatanDKI'].mode()[0])"
      ],
      "id": "2d80166a",
      "execution_count": 23,
      "outputs": [
        {
          "output_type": "stream",
          "name": "stdout",
          "text": [
            "96885.04291845493\n",
            "127812.0\n",
            "0\n"
          ]
        },
        {
          "output_type": "display_data",
          "data": {
            "image/png": "[encoded data removed]",
            "text/plain": [
              "<Figure size 432x288 with 1 Axes>"
            ]
          },
          "metadata": {
            "needs_background": "light"
          }
        }
      ]
    },
    {
      "cell_type": "code",
      "metadata": {
        "id": "48bf0871",
        "colab": {
          "base_uri": "https://localhost:8080/",
          "height": 320
        },
        "outputId": "fe1dc4fc-c88b-42be-9894-48e465dab9e0"
      },
      "source": [
        "plt.hist(df['Vaksinasi 2_TenagaKesehatanDKI'])\n",
        "print(df['Vaksinasi 2_TenagaKesehatanDKI'].mean())\n",
        "print(df['Vaksinasi 2_TenagaKesehatanDKI'].median())\n",
        "print(df['Vaksinasi 2_TenagaKesehatanDKI'].mode()[0])"
      ],
      "id": "48bf0871",
      "execution_count": 24,
      "outputs": [
        {
          "output_type": "stream",
          "name": "stdout",
          "text": [
            "83885.07296137339\n",
            "110788.0\n",
            "0\n"
          ]
        },
        {
          "output_type": "display_data",
          "data": {
            "image/png": "[encoded data removed]",
            "text/plain": [
              "<Figure size 432x288 with 1 Axes>"
            ]
          },
          "metadata": {
            "needs_background": "light"
          }
        }
      ]
    },
    {
      "cell_type": "code",
      "metadata": {
        "id": "035bb7c6",
        "colab": {
          "base_uri": "https://localhost:8080/",
          "height": 320
        },
        "outputId": "bcfe397f-37a5-4c8d-9f66-d1bdd9241957"
      },
      "source": [
        "plt.hist(df['Vaksinasi 1_LansiaDKI'])\n",
        "print(df['Vaksinasi 1_LansiaDKI'].mean())\n",
        "print(df['Vaksinasi 1_LansiaDKI'].median())\n",
        "print(df['Vaksinasi 1_LansiaDKI'].mode()[0])"
      ],
      "id": "035bb7c6",
      "execution_count": 25,
      "outputs": [
        {
          "output_type": "stream",
          "name": "stdout",
          "text": [
            "404394.8755364807\n",
            "570852.0\n",
            "0\n"
          ]
        },
        {
          "output_type": "display_data",
          "data": {
            "image/png": "[encoded data removed]",
            "text/plain": [
              "<Figure size 432x288 with 1 Axes>"
            ]
          },
          "metadata": {
            "needs_background": "light"
          }
        }
      ]
    },
    {
      "cell_type": "code",
      "metadata": {
        "id": "bad44d57",
        "colab": {
          "base_uri": "https://localhost:8080/",
          "height": 320
        },
        "outputId": "323c216f-47a2-40f7-dd00-1bd584f3a140"
      },
      "source": [
        "plt.hist(df['Vaksinasi 2_LansiaDKI'])\n",
        "print(df['Vaksinasi 2_LansiaDKI'].mean())\n",
        "print(df['Vaksinasi 2_LansiaDKI'].median())\n",
        "print(df['Vaksinasi 2_LansiaDKI'].mode()[0])"
      ],
      "id": "bad44d57",
      "execution_count": 26,
      "outputs": [
        {
          "output_type": "stream",
          "name": "stdout",
          "text": [
            "300273.8154506438\n",
            "432310.0\n",
            "0\n"
          ]
        },
        {
          "output_type": "display_data",
          "data": {
            "image/png": "[encoded data removed]",
            "text/plain": [
              "<Figure size 432x288 with 1 Axes>"
            ]
          },
          "metadata": {
            "needs_background": "light"
          }
        }
      ]
    },
    {
      "cell_type": "code",
      "metadata": {
        "id": "1bac576b",
        "colab": {
          "base_uri": "https://localhost:8080/",
          "height": 332
        },
        "outputId": "c1b83800-61b3-413e-cf62-b856ed84eedd"
      },
      "source": [
        "\n",
        "plt.hist(df['Vaksinasi 1_PelayananPublikDKI'])\n",
        "print(df['Vaksinasi 1_PelayananPublikDKI'].mean())\n",
        "print(df['Vaksinasi 1_PelayananPublikDKI'].median())\n",
        "print(df['Vaksinasi 1_PelayananPublikDKI'].mode()[0])"
      ],
      "id": "1bac576b",
      "execution_count": 27,
      "outputs": [
        {
          "output_type": "stream",
          "name": "stdout",
          "text": [
            "2083064.9785407726\n",
            "1152521.0\n",
            "0\n"
          ]
        },
        {
          "output_type": "display_data",
          "data": {
            "image/png": "[encoded data removed]",
            "text/plain": [
              "<Figure size 432x288 with 1 Axes>"
            ]
          },
          "metadata": {
            "needs_background": "light"
          }
        }
      ]
    },
    {
      "cell_type": "code",
      "metadata": {
        "id": "01758498",
        "colab": {
          "base_uri": "https://localhost:8080/",
          "height": 332
        },
        "outputId": "0dfe8055-686b-4415-c735-cef5a961d363"
      },
      "source": [
        "\n",
        "plt.hist(df['Vaksinasi 2_PelayananPublikDKI'])\n",
        "print(df['Vaksinasi 2_PelayananPublikDKI'].mean())\n",
        "print(df['Vaksinasi 2_PelayananPublikDKI'].median())\n",
        "print(df['Vaksinasi 2_PelayananPublikDKI'].mode()[0])"
      ],
      "id": "01758498",
      "execution_count": 28,
      "outputs": [
        {
          "output_type": "stream",
          "name": "stdout",
          "text": [
            "805337.4935622318\n",
            "625051.0\n",
            "0\n"
          ]
        },
        {
          "output_type": "display_data",
          "data": {
            "image/png": "[encoded data removed]",
            "text/plain": [
              "<Figure size 432x288 with 1 Axes>"
            ]
          },
          "metadata": {
            "needs_background": "light"
          }
        }
      ]
    },
    {
      "cell_type": "code",
      "metadata": {
        "id": "31b0d913",
        "colab": {
          "base_uri": "https://localhost:8080/",
          "height": 332
        },
        "outputId": "0f6918fa-50d6-4c88-e600-6572fa25576b"
      },
      "source": [
        "plt.hist(df['Vaksinasi 1_TotalDKIjkt'])\n",
        "print(df['Vaksinasi 1_TotalDKIjkt'].mean())\n",
        "print(df['Vaksinasi 1_TotalDKIjkt'].median())\n",
        "print(df['Vaksinasi 1_TotalDKIjkt'].mode()[0])"
      ],
      "id": "31b0d913",
      "execution_count": 29,
      "outputs": [
        {
          "output_type": "stream",
          "name": "stdout",
          "text": [
            "2584344.8969957083\n",
            "1850474.0\n",
            "0\n"
          ]
        },
        {
          "output_type": "display_data",
          "data": {
            "image/png": "[encoded data removed]",
            "text/plain": [
              "<Figure size 432x288 with 1 Axes>"
            ]
          },
          "metadata": {
            "needs_background": "light"
          }
        }
      ]
    },
    {
      "cell_type": "code",
      "metadata": {
        "id": "97cb0aaf",
        "colab": {
          "base_uri": "https://localhost:8080/",
          "height": 332
        },
        "outputId": "c47b8115-b932-4c10-928d-1cba7de6f2e8"
      },
      "source": [
        "plt.hist(df['Vaksinasi 2_TotalDKIjkt'])\n",
        "print(df['Vaksinasi 2_TotalDKIjkt'].mean())\n",
        "print(df['Vaksinasi 2_TotalDKIjkt'].median())\n",
        "print(df['Vaksinasi 2_TotalDKIjkt'].mode()[0])"
      ],
      "id": "97cb0aaf",
      "execution_count": 30,
      "outputs": [
        {
          "output_type": "stream",
          "name": "stdout",
          "text": [
            "1189426.1673819742\n",
            "1182862.0\n",
            "0\n"
          ]
        },
        {
          "output_type": "display_data",
          "data": {
            "image/png": "[encoded data removed]",
            "text/plain": [
              "<Figure size 432x288 with 1 Axes>"
            ]
          },
          "metadata": {
            "needs_background": "light"
          }
        }
      ]
    },
    {
      "cell_type": "code",
      "metadata": {
        "id": "b8e6fba9",
        "colab": {
          "base_uri": "https://localhost:8080/",
          "height": 320
        },
        "outputId": "cea4e96d-7ce7-4b25-a7ce-2bde1f6ff978"
      },
      "source": [
        "df['Vaksinasi 1_HarianDKI'] = abs(df['Vaksinasi 1_HarianDKI'])\n",
        "plt.hist(df['Vaksinasi 1_HarianDKI'])\n",
        "print(df['Vaksinasi 1_HarianDKI'].mean())\n",
        "print(df['Vaksinasi 1_HarianDKI'].median())\n",
        "print(df['Vaksinasi 1_HarianDKI'].mode()[0])"
      ],
      "id": "b8e6fba9",
      "execution_count": 31,
      "outputs": [
        {
          "output_type": "stream",
          "name": "stdout",
          "text": [
            "28005.738197424893\n",
            "0.0\n",
            "0\n"
          ]
        },
        {
          "output_type": "display_data",
          "data": {
            "image/png": "[encoded data removed]",
            "text/plain": [
              "<Figure size 432x288 with 1 Axes>"
            ]
          },
          "metadata": {
            "needs_background": "light"
          }
        }
      ]
    },
    {
      "cell_type": "code",
      "metadata": {
        "id": "6a9bd9e1",
        "colab": {
          "base_uri": "https://localhost:8080/",
          "height": 320
        },
        "outputId": "5d9352dd-3259-4b59-bf44-3351a9509865"
      },
      "source": [
        "\n",
        "plt.hist(df['Vaksinasi 2_HarianDKI'])\n",
        "print(df['Vaksinasi 2_HarianDKI'].mean())\n",
        "print(df['Vaksinasi 2_HarianDKI'].median())\n",
        "print(df['Vaksinasi 2_HarianDKI'].mode()[0])"
      ],
      "id": "6a9bd9e1",
      "execution_count": 32,
      "outputs": [
        {
          "output_type": "stream",
          "name": "stdout",
          "text": [
            "12393.716738197425\n",
            "0.0\n",
            "0\n"
          ]
        },
        {
          "output_type": "display_data",
          "data": {
            "image/png": "[encoded data removed]",
            "text/plain": [
              "<Figure size 432x288 with 1 Axes>"
            ]
          },
          "metadata": {
            "needs_background": "light"
          }
        }
      ]
    },
    {
      "cell_type": "code",
      "metadata": {
        "id": "392e5381",
        "colab": {
          "base_uri": "https://localhost:8080/",
          "height": 332
        },
        "outputId": "1d7bcb9e-b93d-411f-9986-6560f2c8df4f"
      },
      "source": [
        "plt.hist(df['Vaksinasi 1_18-59 tahunDKI'])\n",
        "print(df['Vaksinasi 1_18-59 tahunDKI'].mean())\n",
        "print(df['Vaksinasi 1_18-59 tahunDKI'].median())\n",
        "print(df['Vaksinasi 1_18-59 tahunDKI'].mode()[0])\n"
      ],
      "id": "392e5381",
      "execution_count": 33,
      "outputs": [
        {
          "output_type": "stream",
          "name": "stdout",
          "text": [
            "1511296.8497854078\n",
            "0.0\n",
            "0\n"
          ]
        },
        {
          "output_type": "display_data",
          "data": {
            "image/png": "[encoded data removed]",
            "text/plain": [
              "<Figure size 432x288 with 1 Axes>"
            ]
          },
          "metadata": {
            "needs_background": "light"
          }
        }
      ]
    },
    {
      "cell_type": "code",
      "metadata": {
        "id": "ca571891",
        "colab": {
          "base_uri": "https://localhost:8080/",
          "height": 332
        },
        "outputId": "bb4624ef-64cd-48aa-92fd-1848e342f5bd"
      },
      "source": [
        "plt.hist(df['Vaksinasi 2_18-59 tahunDKI'])\n",
        "print(df['Vaksinasi 2_18-59 tahunDKI'].mean())\n",
        "print(df['Vaksinasi 2_18-59 tahunDKI'].median())\n",
        "print(df['Vaksinasi 2_18-59 tahunDKI'].mode()[0])\n"
      ],
      "id": "ca571891",
      "execution_count": 34,
      "outputs": [
        {
          "output_type": "stream",
          "name": "stdout",
          "text": [
            "546552.1759656653\n",
            "0.0\n",
            "0\n"
          ]
        },
        {
          "output_type": "display_data",
          "data": {
            "image/png": "[encoded data removed]",
            "text/plain": [
              "<Figure size 432x288 with 1 Axes>"
            ]
          },
          "metadata": {
            "needs_background": "light"
          }
        }
      ]
    },
    {
      "cell_type": "code",
      "metadata": {
        "id": "5c67fd18",
        "colab": {
          "base_uri": "https://localhost:8080/",
          "height": 322
        },
        "outputId": "0d0e03be-1014-4576-e94a-c47cfa10a681"
      },
      "source": [
        "plt.hist(df['Vaksin Gtg Ryg 1_DKI'])\n",
        "print(df['Vaksin Gtg Ryg 1_DKI'].mean())\n",
        "print(df['Vaksin Gtg Ryg 1_DKI'].median())\n",
        "print(df['Vaksin Gtg Ryg 1_DKI'].mode()[0])\n"
      ],
      "id": "5c67fd18",
      "execution_count": 35,
      "outputs": [
        {
          "output_type": "stream",
          "name": "stdout",
          "text": [
            "38639.56223175966\n",
            "0.0\n",
            "0\n"
          ]
        },
        {
          "output_type": "display_data",
          "data": {
            "image/png": "[encoded data removed]",
            "text/plain": [
              "<Figure size 432x288 with 1 Axes>"
            ]
          },
          "metadata": {
            "needs_background": "light"
          }
        }
      ]
    },
    {
      "cell_type": "code",
      "metadata": {
        "id": "00af6f69",
        "colab": {
          "base_uri": "https://localhost:8080/",
          "height": 320
        },
        "outputId": "18e9e604-bc82-41dc-8039-8b4f1b155724"
      },
      "source": [
        "plt.hist(df['Vaksin Gtg Ryg 2_DKI'])\n",
        "print(df['Vaksin Gtg Ryg 2_DKI'].mean())\n",
        "print(df['Vaksin Gtg Ryg 2_DKI'].median())\n",
        "print(df['Vaksin Gtg Ryg 2_DKI'].mode()[0])"
      ],
      "id": "00af6f69",
      "execution_count": 36,
      "outputs": [
        {
          "output_type": "stream",
          "name": "stdout",
          "text": [
            "20217.2660944206\n",
            "0.0\n",
            "0\n"
          ]
        },
        {
          "output_type": "display_data",
          "data": {
            "image/png": "[encoded data removed]",
            "text/plain": [
              "<Figure size 432x288 with 1 Axes>"
            ]
          },
          "metadata": {
            "needs_background": "light"
          }
        }
      ]
    },
    {
      "cell_type": "code",
      "metadata": {
        "id": "7458b085"
      },
      "source": [
        "# plt.hist(df[''])\n",
        "# print(df[''].mean())\n",
        "# print(df[''].median())\n",
        "# print(df[''].mode()[0])"
      ],
      "id": "7458b085",
      "execution_count": 37,
      "outputs": []
    },
    {
      "cell_type": "code",
      "metadata": {
        "id": "2da41083",
        "colab": {
          "base_uri": "https://localhost:8080/"
        },
        "outputId": "0e253420-912b-497d-b20a-a7034ccd6477"
      },
      "source": [
        "df.info()"
      ],
      "id": "2da41083",
      "execution_count": 38,
      "outputs": [
        {
          "output_type": "stream",
          "name": "stdout",
          "text": [
            "<class 'pandas.core.frame.DataFrame'>\n",
            "RangeIndex: 233 entries, 0 to 232\n",
            "Data columns (total 32 columns):\n",
            " #   Column                                              Non-Null Count  Dtype         \n",
            "---  ------                                              --------------  -----         \n",
            " 0   Tanggal                                             233 non-null    datetime64[ns]\n",
            " 1   Meninggal Harian (Jakarta)                          233 non-null    int64         \n",
            " 2   Sembuh Harian (Jakarta)                             233 non-null    int64         \n",
            " 3   Self-Isolation Harian (Jakarta)                     233 non-null    int64         \n",
            " 4   Dirawat Harian (Jakarta)                            233 non-null    int64         \n",
            " 5   Positif Harian (Jakarta)                            233 non-null    int64         \n",
            " 6   Positif Aktif Harian (Jakarta)                      233 non-null    int64         \n",
            " 7   retail_and_recreation_percent_change_from_baseline  233 non-null    int64         \n",
            " 8   grocery_and_pharmacy_percent_change_from_baseline   233 non-null    int64         \n",
            " 9   parks_percent_change_from_baseline                  233 non-null    int64         \n",
            " 10  transit_stations_percent_change_from_baseline       233 non-null    int64         \n",
            " 11  workplaces_percent_change_from_baseline             233 non-null    int64         \n",
            " 12  residential_percent_change_from_baseline            233 non-null    int64         \n",
            " 13  Vaksinasi 1_TenagaKesehatanDKI                      233 non-null    int64         \n",
            " 14  Vaksinasi 2_TenagaKesehatanDKI                      233 non-null    int64         \n",
            " 15  Vaksinasi 1_LansiaDKI                               233 non-null    int64         \n",
            " 16  Vaksinasi 2_LansiaDKI                               233 non-null    int64         \n",
            " 17  Vaksinasi 1_PelayananPublikDKI                      233 non-null    int64         \n",
            " 18  Vaksinasi 2_PelayananPublikDKI                      233 non-null    int64         \n",
            " 19  Vaksinasi 1_TotalDKIjkt                             233 non-null    int64         \n",
            " 20  Vaksinasi 2_TotalDKIjkt                             233 non-null    int64         \n",
            " 21  Vaksinasi 1_HarianDKI                               233 non-null    int64         \n",
            " 22  Vaksinasi 2_HarianDKI                               233 non-null    int64         \n",
            " 23  Vaksinasi 1_18-59 tahunDKI                          233 non-null    int64         \n",
            " 24  Vaksinasi 2_18-59 tahunDKI                          233 non-null    int64         \n",
            " 25  Vaksin Gtg Ryg 1_DKI                                233 non-null    int64         \n",
            " 26  Vaksin Gtg Ryg 2_DKI                                233 non-null    int64         \n",
            " 27  Jumlah Orang di Test                                233 non-null    int64         \n",
            " 28  Orang Positif Harian                                233 non-null    int64         \n",
            " 29  Orang Negatif Harian                                233 non-null    int64         \n",
            " 30  Positivity Rate Kasus Baru Harian                   233 non-null    float64       \n",
            " 31  LABEL                                               233 non-null    object        \n",
            "dtypes: datetime64[ns](1), float64(1), int64(29), object(1)\n",
            "memory usage: 58.4+ KB\n"
          ]
        }
      ]
    },
    {
      "cell_type": "code",
      "metadata": {
        "id": "09af0901",
        "colab": {
          "base_uri": "https://localhost:8080/",
          "height": 323
        },
        "outputId": "b642a4c7-6c2d-47c1-92c1-7b198b768fd6"
      },
      "source": [
        "plt.hist(df['Jumlah Orang di Test'])\n",
        "print(df['Jumlah Orang di Test'].mean())\n",
        "print(df['Jumlah Orang di Test'].median())\n",
        "print(df['Jumlah Orang di Test'].mode()[0])"
      ],
      "id": "09af0901",
      "execution_count": 39,
      "outputs": [
        {
          "output_type": "stream",
          "name": "stdout",
          "text": [
            "15252.098712446352\n",
            "13142.0\n",
            "10312\n"
          ]
        },
        {
          "output_type": "display_data",
          "data": {
            "image/png": "[encoded data removed]",
            "text/plain": [
              "<Figure size 432x288 with 1 Axes>"
            ]
          },
          "metadata": {
            "needs_background": "light"
          }
        }
      ]
    },
    {
      "cell_type": "code",
      "metadata": {
        "id": "3233bd66",
        "colab": {
          "base_uri": "https://localhost:8080/",
          "height": 320
        },
        "outputId": "a5f122e4-0c90-4589-e145-3d64b346435a"
      },
      "source": [
        "plt.hist(df['Orang Positif Harian'])\n",
        "print(df['Orang Positif Harian'].mean())\n",
        "print(df['Orang Positif Harian'].median())\n",
        "print(df['Orang Positif Harian'].mode()[0])"
      ],
      "id": "3233bd66",
      "execution_count": 40,
      "outputs": [
        {
          "output_type": "stream",
          "name": "stdout",
          "text": [
            "2823.991416309013\n",
            "1671.0\n",
            "384\n"
          ]
        },
        {
          "output_type": "display_data",
          "data": {
            "image/png": "[encoded data removed]",
            "text/plain": [
              "<Figure size 432x288 with 1 Axes>"
            ]
          },
          "metadata": {
            "needs_background": "light"
          }
        }
      ]
    },
    {
      "cell_type": "code",
      "metadata": {
        "id": "f61e70a8",
        "colab": {
          "base_uri": "https://localhost:8080/",
          "height": 320
        },
        "outputId": "0cf6f7d9-5469-493e-fadf-26bb1b40fe7c"
      },
      "source": [
        "plt.hist(df['Orang Negatif Harian'])\n",
        "print(df['Orang Negatif Harian'].mean())\n",
        "print(df['Orang Negatif Harian'].median())\n",
        "print(df['Orang Negatif Harian'].mode()[0])"
      ],
      "id": "f61e70a8",
      "execution_count": 41,
      "outputs": [
        {
          "output_type": "stream",
          "name": "stdout",
          "text": [
            "12428.10729613734\n",
            "11305.0\n",
            "7787\n"
          ]
        },
        {
          "output_type": "display_data",
          "data": {
            "image/png": "[encoded data removed]",
            "text/plain": [
              "<Figure size 432x288 with 1 Axes>"
            ]
          },
          "metadata": {
            "needs_background": "light"
          }
        }
      ]
    },
    {
      "cell_type": "code",
      "metadata": {
        "id": "4ccb9797",
        "colab": {
          "base_uri": "https://localhost:8080/",
          "height": 320
        },
        "outputId": "c4368ee5-c517-4736-f6fb-74e7a479f485"
      },
      "source": [
        "plt.hist(df['Positivity Rate Kasus Baru Harian'])\n",
        "print(df['Positivity Rate Kasus Baru Harian'].mean())\n",
        "print(df['Positivity Rate Kasus Baru Harian'].median())\n",
        "print(df['Positivity Rate Kasus Baru Harian'].mode()[0])"
      ],
      "id": "4ccb9797",
      "execution_count": 42,
      "outputs": [
        {
          "output_type": "stream",
          "name": "stdout",
          "text": [
            "0.15703643380017157\n",
            "0.1314936612\n",
            "0.03364879075\n"
          ]
        },
        {
          "output_type": "display_data",
          "data": {
            "image/png": "[encoded data removed]",
            "text/plain": [
              "<Figure size 432x288 with 1 Axes>"
            ]
          },
          "metadata": {
            "needs_background": "light"
          }
        }
      ]
    },
    {
      "cell_type": "code",
      "metadata": {
        "id": "cb20c879",
        "colab": {
          "base_uri": "https://localhost:8080/",
          "height": 733
        },
        "outputId": "bf8d6eac-6c10-4134-d207-c2dfebd241d9"
      },
      "source": [
        "plt.figure(figsize=(10,10))\n",
        "print(df['LABEL '].value_counts()/len(df)*100)\n",
        "sns.countplot(df['LABEL '].sort_values(ascending=True),palette='viridis')"
      ],
      "id": "cb20c879",
      "execution_count": 43,
      "outputs": [
        {
          "output_type": "stream",
          "name": "stdout",
          "text": [
            "PPKM MIKRO        61.802575\n",
            "PPKM LEVEL (4)    13.733906\n",
            "PPKM              12.446352\n",
            "PPKM DARURAT       7.725322\n",
            "Belum Ada PPKM     4.291845\n",
            "Name: LABEL , dtype: float64\n"
          ]
        },
        {
          "output_type": "execute_result",
          "data": {
            "text/plain": [
              "<matplotlib.axes._subplots.AxesSubplot at 0x7fe3007231d0>"
            ]
          },
          "metadata": {},
          "execution_count": 43
        },
        {
          "output_type": "display_data",
          "data": {
            "image/png": "[encoded data removed]",
            "text/plain": [
              "<Figure size 720x720 with 1 Axes>"
            ]
          },
          "metadata": {
            "needs_background": "light"
          }
        }
      ]
    },
    {
      "cell_type": "markdown",
      "metadata": {
        "id": "3adc93af"
      },
      "source": [
        "## Data Preparation\n",
        "### Encoding"
      ],
      "id": "3adc93af"
    },
    {
      "cell_type": "code",
      "metadata": {
        "id": "fc43a5e6",
        "colab": {
          "base_uri": "https://localhost:8080/"
        },
        "outputId": "2414806f-3353-48b1-a338-46235bf83d85"
      },
      "source": [
        "df['LABEL '].unique()"
      ],
      "id": "fc43a5e6",
      "execution_count": 44,
      "outputs": [
        {
          "output_type": "execute_result",
          "data": {
            "text/plain": [
              "array(['Belum Ada PPKM', 'PPKM', 'PPKM MIKRO', 'PPKM DARURAT',\n",
              "       'PPKM LEVEL (4)'], dtype=object)"
            ]
          },
          "metadata": {},
          "execution_count": 44
        }
      ]
    },
    {
      "cell_type": "code",
      "metadata": {
        "id": "f09907a9",
        "colab": {
          "base_uri": "https://localhost:8080/",
          "height": 36
        },
        "outputId": "a40bfae0-394e-4adb-cfb4-659d28fdcd93"
      },
      "source": [
        "'Belum Ada PPKM', \n",
        "'PPKM MIKRO', \n",
        "'PPKM',\n",
        "'PPKM DARURAT',\n",
        "'PPKM LEVEL (4)'"
      ],
      "id": "f09907a9",
      "execution_count": 45,
      "outputs": [
        {
          "output_type": "execute_result",
          "data": {
            "application/vnd.google.colaboratory.intrinsic+json": {
              "type": "string"
            },
            "text/plain": [
              "'PPKM LEVEL (4)'"
            ]
          },
          "metadata": {},
          "execution_count": 45
        }
      ]
    },
    {
      "cell_type": "code",
      "metadata": {
        "id": "f84545cd"
      },
      "source": [
        "cols = {'Belum Ada PPKM':0, \n",
        "'PPKM MIKRO':1, \n",
        "'PPKM':2,\n",
        "'PPKM DARURAT':3,\n",
        "'PPKM LEVEL (4)':4}\n",
        "\n",
        "df['LABEL '] = df['LABEL '].replace(cols)"
      ],
      "id": "f84545cd",
      "execution_count": 46,
      "outputs": []
    },
    {
      "cell_type": "code",
      "metadata": {
        "id": "7e83511f",
        "colab": {
          "base_uri": "https://localhost:8080/",
          "height": 408
        },
        "outputId": "e5dfc823-f98a-407c-e63b-bfc3c9c341d8"
      },
      "source": [
        "df.tail()"
      ],
      "id": "7e83511f",
      "execution_count": 47,
      "outputs": [
        {
          "output_type": "execute_result",
          "data": {
            "text/html": [
              "\n",
              "  <div id=\"df-4dbb25cc-2b25-46f6-9363-722015cf90c1\">\n",
              "    <div class=\"colab-df-container\">\n",
              "      <div>\n",
              "<style scoped>\n",
              "    .dataframe tbody tr th:only-of-type {\n",
              "        vertical-align: middle;\n",
              "    }\n",
              "\n",
              "    .dataframe tbody tr th {\n",
              "        vertical-align: top;\n",
              "    }\n",
              "\n",
              "    .dataframe thead th {\n",
              "        text-align: right;\n",
              "    }\n",
              "</style>\n",
              "<table border=\"1\" class=\"dataframe\">\n",
              "  <thead>\n",
              "    <tr style=\"text-align: right;\">\n",
              "      <th></th>\n",
              "      <th>Tanggal</th>\n",
              "      <th>Meninggal Harian (Jakarta)</th>\n",
              "      <th>Sembuh Harian (Jakarta)</th>\n",
              "      <th>Self-Isolation Harian (Jakarta)</th>\n",
              "      <th>Dirawat Harian (Jakarta)</th>\n",
              "      <th>Positif Harian (Jakarta)</th>\n",
              "      <th>Positif Aktif Harian (Jakarta)</th>\n",
              "      <th>retail_and_recreation_percent_change_from_baseline</th>\n",
              "      <th>grocery_and_pharmacy_percent_change_from_baseline</th>\n",
              "      <th>parks_percent_change_from_baseline</th>\n",
              "      <th>transit_stations_percent_change_from_baseline</th>\n",
              "      <th>workplaces_percent_change_from_baseline</th>\n",
              "      <th>residential_percent_change_from_baseline</th>\n",
              "      <th>Vaksinasi 1_TenagaKesehatanDKI</th>\n",
              "      <th>Vaksinasi 2_TenagaKesehatanDKI</th>\n",
              "      <th>Vaksinasi 1_LansiaDKI</th>\n",
              "      <th>Vaksinasi 2_LansiaDKI</th>\n",
              "      <th>Vaksinasi 1_PelayananPublikDKI</th>\n",
              "      <th>Vaksinasi 2_PelayananPublikDKI</th>\n",
              "      <th>Vaksinasi 1_TotalDKIjkt</th>\n",
              "      <th>Vaksinasi 2_TotalDKIjkt</th>\n",
              "      <th>Vaksinasi 1_HarianDKI</th>\n",
              "      <th>Vaksinasi 2_HarianDKI</th>\n",
              "      <th>Vaksinasi 1_18-59 tahunDKI</th>\n",
              "      <th>Vaksinasi 2_18-59 tahunDKI</th>\n",
              "      <th>Vaksin Gtg Ryg 1_DKI</th>\n",
              "      <th>Vaksin Gtg Ryg 2_DKI</th>\n",
              "      <th>Jumlah Orang di Test</th>\n",
              "      <th>Orang Positif Harian</th>\n",
              "      <th>Orang Negatif Harian</th>\n",
              "      <th>Positivity Rate Kasus Baru Harian</th>\n",
              "      <th>LABEL</th>\n",
              "    </tr>\n",
              "  </thead>\n",
              "  <tbody>\n",
              "    <tr>\n",
              "      <th>228</th>\n",
              "      <td>2021-08-17</td>\n",
              "      <td>24</td>\n",
              "      <td>920</td>\n",
              "      <td>-335</td>\n",
              "      <td>46</td>\n",
              "      <td>655</td>\n",
              "      <td>-289</td>\n",
              "      <td>-37</td>\n",
              "      <td>-13</td>\n",
              "      <td>-48</td>\n",
              "      <td>-61</td>\n",
              "      <td>-73</td>\n",
              "      <td>22</td>\n",
              "      <td>145377</td>\n",
              "      <td>130598</td>\n",
              "      <td>774339</td>\n",
              "      <td>658653</td>\n",
              "      <td>8231512</td>\n",
              "      <td>3645545</td>\n",
              "      <td>9151228</td>\n",
              "      <td>4434796</td>\n",
              "      <td>81878</td>\n",
              "      <td>124401</td>\n",
              "      <td>7620385</td>\n",
              "      <td>3503040</td>\n",
              "      <td>186102</td>\n",
              "      <td>139354</td>\n",
              "      <td>12623</td>\n",
              "      <td>1029</td>\n",
              "      <td>11594</td>\n",
              "      <td>0.081518</td>\n",
              "      <td>4</td>\n",
              "    </tr>\n",
              "    <tr>\n",
              "      <th>229</th>\n",
              "      <td>2021-08-18</td>\n",
              "      <td>13</td>\n",
              "      <td>897</td>\n",
              "      <td>51</td>\n",
              "      <td>68</td>\n",
              "      <td>1029</td>\n",
              "      <td>119</td>\n",
              "      <td>-32</td>\n",
              "      <td>-6</td>\n",
              "      <td>-51</td>\n",
              "      <td>-47</td>\n",
              "      <td>-36</td>\n",
              "      <td>14</td>\n",
              "      <td>145437</td>\n",
              "      <td>130664</td>\n",
              "      <td>774795</td>\n",
              "      <td>658927</td>\n",
              "      <td>8270704</td>\n",
              "      <td>3659507</td>\n",
              "      <td>9190936</td>\n",
              "      <td>4449098</td>\n",
              "      <td>39708</td>\n",
              "      <td>14302</td>\n",
              "      <td>7658754</td>\n",
              "      <td>3514253</td>\n",
              "      <td>186205</td>\n",
              "      <td>139763</td>\n",
              "      <td>11136</td>\n",
              "      <td>731</td>\n",
              "      <td>10405</td>\n",
              "      <td>0.065643</td>\n",
              "      <td>4</td>\n",
              "    </tr>\n",
              "    <tr>\n",
              "      <th>230</th>\n",
              "      <td>2021-08-19</td>\n",
              "      <td>34</td>\n",
              "      <td>934</td>\n",
              "      <td>-212</td>\n",
              "      <td>-25</td>\n",
              "      <td>731</td>\n",
              "      <td>-237</td>\n",
              "      <td>-31</td>\n",
              "      <td>-6</td>\n",
              "      <td>-49</td>\n",
              "      <td>-49</td>\n",
              "      <td>-36</td>\n",
              "      <td>14</td>\n",
              "      <td>145760</td>\n",
              "      <td>131099</td>\n",
              "      <td>776527</td>\n",
              "      <td>660659</td>\n",
              "      <td>8318021</td>\n",
              "      <td>3769857</td>\n",
              "      <td>9240308</td>\n",
              "      <td>4561615</td>\n",
              "      <td>49372</td>\n",
              "      <td>112517</td>\n",
              "      <td>7701823</td>\n",
              "      <td>3599711</td>\n",
              "      <td>187348</td>\n",
              "      <td>140791</td>\n",
              "      <td>11742</td>\n",
              "      <td>969</td>\n",
              "      <td>10773</td>\n",
              "      <td>0.082524</td>\n",
              "      <td>4</td>\n",
              "    </tr>\n",
              "    <tr>\n",
              "      <th>231</th>\n",
              "      <td>2021-08-20</td>\n",
              "      <td>11</td>\n",
              "      <td>948</td>\n",
              "      <td>-73</td>\n",
              "      <td>83</td>\n",
              "      <td>969</td>\n",
              "      <td>10</td>\n",
              "      <td>-28</td>\n",
              "      <td>-2</td>\n",
              "      <td>-44</td>\n",
              "      <td>-48</td>\n",
              "      <td>-34</td>\n",
              "      <td>15</td>\n",
              "      <td>146009</td>\n",
              "      <td>131541</td>\n",
              "      <td>778077</td>\n",
              "      <td>662573</td>\n",
              "      <td>8360969</td>\n",
              "      <td>3885330</td>\n",
              "      <td>9285055</td>\n",
              "      <td>4679444</td>\n",
              "      <td>44747</td>\n",
              "      <td>117829</td>\n",
              "      <td>7741075</td>\n",
              "      <td>3685898</td>\n",
              "      <td>188109</td>\n",
              "      <td>142047</td>\n",
              "      <td>13518</td>\n",
              "      <td>891</td>\n",
              "      <td>12627</td>\n",
              "      <td>0.065912</td>\n",
              "      <td>4</td>\n",
              "    </tr>\n",
              "    <tr>\n",
              "      <th>232</th>\n",
              "      <td>2021-08-21</td>\n",
              "      <td>20</td>\n",
              "      <td>915</td>\n",
              "      <td>-156</td>\n",
              "      <td>112</td>\n",
              "      <td>891</td>\n",
              "      <td>-44</td>\n",
              "      <td>-31</td>\n",
              "      <td>-1</td>\n",
              "      <td>-52</td>\n",
              "      <td>-43</td>\n",
              "      <td>-19</td>\n",
              "      <td>10</td>\n",
              "      <td>146276</td>\n",
              "      <td>131945</td>\n",
              "      <td>779171</td>\n",
              "      <td>663758</td>\n",
              "      <td>8393744</td>\n",
              "      <td>3967204</td>\n",
              "      <td>9319191</td>\n",
              "      <td>4762907</td>\n",
              "      <td>34136</td>\n",
              "      <td>83463</td>\n",
              "      <td>7771668</td>\n",
              "      <td>3747306</td>\n",
              "      <td>188334</td>\n",
              "      <td>142517</td>\n",
              "      <td>11555</td>\n",
              "      <td>701</td>\n",
              "      <td>10854</td>\n",
              "      <td>0.060666</td>\n",
              "      <td>4</td>\n",
              "    </tr>\n",
              "  </tbody>\n",
              "</table>\n",
              "</div>\n",
              "      <button class=\"colab-df-convert\" onclick=\"convertToInteractive('df-4dbb25cc-2b25-46f6-9363-722015cf90c1')\"\n",
              "              title=\"Convert this dataframe to an interactive table.\"\n",
              "              style=\"display:none;\">\n",
              "        \n",
              "  <svg xmlns=\"http://www.w3.org/2000/svg\" height=\"24px\"viewBox=\"0 0 24 24\"\n",
              "       width=\"24px\">\n",
              "    <path d=\"M0 0h24v24H0V0z\" fill=\"none\"/>\n",
              "    <path d=\"M18.56 5.44l.94 2.06.94-2.06 2.06-.94-2.06-.94-.94-2.06-.94 2.06-2.06.94zm-11 1L8.5 8.5l.94-2.06 2.06-.94-2.06-.94L8.5 2.5l-.94 2.06-2.06.94zm10 10l.94 2.06.94-2.06 2.06-.94-2.06-.94-.94-2.06-.94 2.06-2.06.94z\"/><path d=\"M17.41 7.96l-1.37-1.37c-.4-.4-.92-.59-1.43-.59-.52 0-1.04.2-1.43.59L10.3 9.45l-7.72 7.72c-.78.78-.78 2.05 0 2.83L4 21.41c.39.39.9.59 1.41.59.51 0 1.02-.2 1.41-.59l7.78-7.78 2.81-2.81c.8-.78.8-2.07 0-2.86zM5.41 20L4 18.59l7.72-7.72 1.47 1.35L5.41 20z\"/>\n",
              "  </svg>\n",
              "      </button>\n",
              "      \n",
              "  <style>\n",
              "    .colab-df-container {\n",
              "      display:flex;\n",
              "      flex-wrap:wrap;\n",
              "      gap: 12px;\n",
              "    }\n",
              "\n",
              "    .colab-df-convert {\n",
              "      background-color: #E8F0FE;\n",
              "      border: none;\n",
              "      border-radius: 50%;\n",
              "      cursor: pointer;\n",
              "      display: none;\n",
              "      fill: #1967D2;\n",
              "      height: 32px;\n",
              "      padding: 0 0 0 0;\n",
              "      width: 32px;\n",
              "    }\n",
              "\n",
              "    .colab-df-convert:hover {\n",
              "      background-color: #E2EBFA;\n",
              "      box-shadow: 0px 1px 2px rgba(60, 64, 67, 0.3), 0px 1px 3px 1px rgba(60, 64, 67, 0.15);\n",
              "      fill: #174EA6;\n",
              "    }\n",
              "\n",
              "    [theme=dark] .colab-df-convert {\n",
              "      background-color: #3B4455;\n",
              "      fill: #D2E3FC;\n",
              "    }\n",
              "\n",
              "    [theme=dark] .colab-df-convert:hover {\n",
              "      background-color: #434B5C;\n",
              "      box-shadow: 0px 1px 3px 1px rgba(0, 0, 0, 0.15);\n",
              "      filter: drop-shadow(0px 1px 2px rgba(0, 0, 0, 0.3));\n",
              "      fill: #FFFFFF;\n",
              "    }\n",
              "  </style>\n",
              "\n",
              "      <script>\n",
              "        const buttonEl =\n",
              "          document.querySelector('#df-4dbb25cc-2b25-46f6-9363-722015cf90c1 button.colab-df-convert');\n",
              "        buttonEl.style.display =\n",
              "          google.colab.kernel.accessAllowed ? 'block' : 'none';\n",
              "\n",
              "        async function convertToInteractive(key) {\n",
              "          const element = document.querySelector('#df-4dbb25cc-2b25-46f6-9363-722015cf90c1');\n",
              "          const dataTable =\n",
              "            await google.colab.kernel.invokeFunction('convertToInteractive',\n",
              "                                                     [key], {});\n",
              "          if (!dataTable) return;\n",
              "\n",
              "          const docLinkHtml = 'Like what you see? Visit the ' +\n",
              "            '<a target=\"_blank\" href=https://colab.research.google.com/notebooks/data_table.ipynb>data table notebook</a>'\n",
              "            + ' to learn more about interactive tables.';\n",
              "          element.innerHTML = '';\n",
              "          dataTable['output_type'] = 'display_data';\n",
              "          await google.colab.output.renderOutput(dataTable, element);\n",
              "          const docLink = document.createElement('div');\n",
              "          docLink.innerHTML = docLinkHtml;\n",
              "          element.appendChild(docLink);\n",
              "        }\n",
              "      </script>\n",
              "    </div>\n",
              "  </div>\n",
              "  "
            ],
            "text/plain": [
              "       Tanggal  Meninggal Harian (Jakarta)  Sembuh Harian (Jakarta)  \\\n",
              "228 2021-08-17                          24                      920   \n",
              "229 2021-08-18                          13                      897   \n",
              "230 2021-08-19                          34                      934   \n",
              "231 2021-08-20                          11                      948   \n",
              "232 2021-08-21                          20                      915   \n",
              "\n",
              "     Self-Isolation Harian (Jakarta)  Dirawat Harian (Jakarta)  \\\n",
              "228                             -335                        46   \n",
              "229                               51                        68   \n",
              "230                             -212                       -25   \n",
              "231                              -73                        83   \n",
              "232                             -156                       112   \n",
              "\n",
              "     Positif Harian (Jakarta)  Positif Aktif Harian (Jakarta)  \\\n",
              "228                       655                            -289   \n",
              "229                      1029                             119   \n",
              "230                       731                            -237   \n",
              "231                       969                              10   \n",
              "232                       891                             -44   \n",
              "\n",
              "     retail_and_recreation_percent_change_from_baseline  \\\n",
              "228                                                -37    \n",
              "229                                                -32    \n",
              "230                                                -31    \n",
              "231                                                -28    \n",
              "232                                                -31    \n",
              "\n",
              "     grocery_and_pharmacy_percent_change_from_baseline  \\\n",
              "228                                                -13   \n",
              "229                                                 -6   \n",
              "230                                                 -6   \n",
              "231                                                 -2   \n",
              "232                                                 -1   \n",
              "\n",
              "     parks_percent_change_from_baseline  \\\n",
              "228                                 -48   \n",
              "229                                 -51   \n",
              "230                                 -49   \n",
              "231                                 -44   \n",
              "232                                 -52   \n",
              "\n",
              "     transit_stations_percent_change_from_baseline  \\\n",
              "228                                            -61   \n",
              "229                                            -47   \n",
              "230                                            -49   \n",
              "231                                            -48   \n",
              "232                                            -43   \n",
              "\n",
              "     workplaces_percent_change_from_baseline  \\\n",
              "228                                      -73   \n",
              "229                                      -36   \n",
              "230                                      -36   \n",
              "231                                      -34   \n",
              "232                                      -19   \n",
              "\n",
              "     residential_percent_change_from_baseline  Vaksinasi 1_TenagaKesehatanDKI  \\\n",
              "228                                        22                          145377   \n",
              "229                                        14                          145437   \n",
              "230                                        14                          145760   \n",
              "231                                        15                          146009   \n",
              "232                                        10                          146276   \n",
              "\n",
              "     Vaksinasi 2_TenagaKesehatanDKI  Vaksinasi 1_LansiaDKI  \\\n",
              "228                          130598                 774339   \n",
              "229                          130664                 774795   \n",
              "230                          131099                 776527   \n",
              "231                          131541                 778077   \n",
              "232                          131945                 779171   \n",
              "\n",
              "     Vaksinasi 2_LansiaDKI  Vaksinasi 1_PelayananPublikDKI  \\\n",
              "228                 658653                         8231512   \n",
              "229                 658927                         8270704   \n",
              "230                 660659                         8318021   \n",
              "231                 662573                         8360969   \n",
              "232                 663758                         8393744   \n",
              "\n",
              "     Vaksinasi 2_PelayananPublikDKI  Vaksinasi 1_TotalDKIjkt  \\\n",
              "228                         3645545                  9151228   \n",
              "229                         3659507                  9190936   \n",
              "230                         3769857                  9240308   \n",
              "231                         3885330                  9285055   \n",
              "232                         3967204                  9319191   \n",
              "\n",
              "     Vaksinasi 2_TotalDKIjkt  Vaksinasi 1_HarianDKI  Vaksinasi 2_HarianDKI  \\\n",
              "228                  4434796                  81878                 124401   \n",
              "229                  4449098                  39708                  14302   \n",
              "230                  4561615                  49372                 112517   \n",
              "231                  4679444                  44747                 117829   \n",
              "232                  4762907                  34136                  83463   \n",
              "\n",
              "     Vaksinasi 1_18-59 tahunDKI  Vaksinasi 2_18-59 tahunDKI  \\\n",
              "228                     7620385                     3503040   \n",
              "229                     7658754                     3514253   \n",
              "230                     7701823                     3599711   \n",
              "231                     7741075                     3685898   \n",
              "232                     7771668                     3747306   \n",
              "\n",
              "     Vaksin Gtg Ryg 1_DKI  Vaksin Gtg Ryg 2_DKI  Jumlah Orang di Test  \\\n",
              "228                186102                139354                 12623   \n",
              "229                186205                139763                 11136   \n",
              "230                187348                140791                 11742   \n",
              "231                188109                142047                 13518   \n",
              "232                188334                142517                 11555   \n",
              "\n",
              "     Orang Positif Harian  Orang Negatif Harian  \\\n",
              "228                  1029                 11594   \n",
              "229                   731                 10405   \n",
              "230                   969                 10773   \n",
              "231                   891                 12627   \n",
              "232                   701                 10854   \n",
              "\n",
              "     Positivity Rate Kasus Baru Harian  LABEL   \n",
              "228                           0.081518       4  \n",
              "229                           0.065643       4  \n",
              "230                           0.082524       4  \n",
              "231                           0.065912       4  \n",
              "232                           0.060666       4  "
            ]
          },
          "metadata": {},
          "execution_count": 47
        }
      ]
    },
    {
      "cell_type": "markdown",
      "metadata": {
        "id": "b3e19b2c"
      },
      "source": [
        "## Checking VIF Multicollinearity\n"
      ],
      "id": "b3e19b2c"
    },
    {
      "cell_type": "code",
      "metadata": {
        "id": "17ac925c",
        "colab": {
          "base_uri": "https://localhost:8080/"
        },
        "outputId": "95c13dd3-131d-4af5-a26a-c93888b704ec"
      },
      "source": [
        "## Checking VIF Multicollinearity\n",
        "\n",
        "from statsmodels.stats.outliers_influence import variance_inflation_factor\n",
        "X_copy = X[['Meninggal Harian (Jakarta)',\n",
        "       'Self-Isolation Harian (Jakarta)', 'Dirawat Harian (Jakarta)',\n",
        "     'Vaksinasi 2_TotalDKIjkt',\n",
        "       'Orang Positif Harian',\n",
        "       'Positivity Rate Kasus Baru Harian']]\n",
        "  \n",
        "# VIF dataframe\n",
        "vif_data = pd.DataFrame()\n",
        "vif_data[\"feature\"] = X_copy.columns\n",
        "# calculating VIF for each feature\n",
        "vif_data[\"VIF\"] = [variance_inflation_factor(X_copy.values, i)\n",
        "                          for i in range(len(X_copy.columns))]\n",
        "  \n",
        "print(vif_data)"
      ],
      "id": "17ac925c",
      "execution_count": 51,
      "outputs": [
        {
          "output_type": "stream",
          "name": "stdout",
          "text": [
            "                             feature       VIF\n",
            "0         Meninggal Harian (Jakarta)  3.803821\n",
            "1    Self-Isolation Harian (Jakarta)  1.802579\n",
            "2           Dirawat Harian (Jakarta)  1.445210\n",
            "3            Vaksinasi 2_TotalDKIjkt  1.866442\n",
            "4               Orang Positif Harian  7.305703\n",
            "5  Positivity Rate Kasus Baru Harian  7.435534\n"
          ]
        }
      ]
    },
    {
      "cell_type": "markdown",
      "metadata": {
        "id": "6629e172"
      },
      "source": [
        "## Splitting Datta into Train,Validation, Test"
      ],
      "id": "6629e172"
    },
    {
      "cell_type": "code",
      "metadata": {
        "id": "20581156"
      },
      "source": [
        "X = df[['Meninggal Harian (Jakarta)',\n",
        "       'Self-Isolation Harian (Jakarta)', 'Dirawat Harian (Jakarta)',\n",
        "     'Vaksinasi 2_TotalDKIjkt',\n",
        "       'Orang Positif Harian',\n",
        "       'Positivity Rate Kasus Baru Harian']]\n",
        "y = df['LABEL '].shift(-7)"
      ],
      "id": "20581156",
      "execution_count": 49,
      "outputs": []
    },
    {
      "cell_type": "code",
      "metadata": {
        "id": "e917bf67"
      },
      "source": [
        "y = y.replace(np.nan,4)"
      ],
      "id": "e917bf67",
      "execution_count": 50,
      "outputs": []
    },
    {
      "cell_type": "code",
      "metadata": {
        "id": "c0a8cf83",
        "colab": {
          "base_uri": "https://localhost:8080/"
        },
        "outputId": "b8f88fb9-0d0f-4775-d5d4-24d325db7df7"
      },
      "source": [
        "y.unique()"
      ],
      "id": "c0a8cf83",
      "execution_count": 52,
      "outputs": [
        {
          "output_type": "execute_result",
          "data": {
            "text/plain": [
              "array([0., 2., 1., 3., 4.])"
            ]
          },
          "metadata": {},
          "execution_count": 52
        }
      ]
    },
    {
      "cell_type": "code",
      "metadata": {
        "id": "d57643b1"
      },
      "source": [
        "from sklearn.model_selection import train_test_split\n",
        "X_train1,X_val,y_train1,y_val = train_test_split(X,y,test_size=0.2,random_state=123)\n",
        "\n",
        "# X_train1,X_val,y_train1,y_val = train_test_split(X_train,y_train,test_size=0.2,random_state=123)"
      ],
      "id": "d57643b1",
      "execution_count": 53,
      "outputs": []
    },
    {
      "cell_type": "code",
      "metadata": {
        "id": "b32afada",
        "colab": {
          "base_uri": "https://localhost:8080/"
        },
        "outputId": "bf91fd0a-c5de-47d8-ab49-cbfe87e05efb"
      },
      "source": [
        "y_train1.shape"
      ],
      "id": "b32afada",
      "execution_count": 54,
      "outputs": [
        {
          "output_type": "execute_result",
          "data": {
            "text/plain": [
              "(186,)"
            ]
          },
          "metadata": {},
          "execution_count": 54
        }
      ]
    },
    {
      "cell_type": "markdown",
      "metadata": {
        "id": "acdf71d8"
      },
      "source": [
        "# Random Oversampling using SMOTE"
      ],
      "id": "acdf71d8"
    },
    {
      "cell_type": "code",
      "metadata": {
        "id": "faf17be4",
        "colab": {
          "base_uri": "https://localhost:8080/",
          "height": 541
        },
        "outputId": "27db7cd0-84b6-4a43-bec4-fd534ad1627c"
      },
      "source": [
        "from imblearn.over_sampling import SMOTE\n",
        "from collections import Counter\n",
        "oversample = SMOTE(k_neighbors=2)\n",
        "X_train1, y_train1 = oversample.fit_resample(X_train1, y_train1)\n",
        "\n",
        "# from imblearn.under_sampling import RandomUnderSampler\n",
        "# # define undersample strategy\n",
        "# undersample = RandomUnderSampler(sampling_strategy='majority')\n",
        "# # fit and apply the transform\n",
        "# X_train1, y_train1 = undersample.fit_resample(X_train1, y_train1)\n",
        "\n",
        "sns.countplot(y,palette='viridis')\n",
        "plt.show()\n",
        "\n",
        "sns.countplot(y_train1,palette='viridis')\n",
        "plt.show()"
      ],
      "id": "faf17be4",
      "execution_count": 55,
      "outputs": [
        {
          "output_type": "display_data",
          "data": {
            "image/png": "[encoded data removed]",
            "text/plain": [
              "<Figure size 432x288 with 1 Axes>"
            ]
          },
          "metadata": {
            "needs_background": "light"
          }
        },
        {
          "output_type": "display_data",
          "data": {
            "image/png": "[encoded data removed]",
            "text/plain": [
              "<Figure size 432x288 with 1 Axes>"
            ]
          },
          "metadata": {
            "needs_background": "light"
          }
        }
      ]
    },
    {
      "cell_type": "markdown",
      "metadata": {
        "id": "f7354ea7"
      },
      "source": [
        "----------------------------------------------------------------------------------------------------"
      ],
      "id": "f7354ea7"
    },
    {
      "cell_type": "markdown",
      "metadata": {
        "id": "e47b4a11"
      },
      "source": [
        "## Scaling Train Data"
      ],
      "id": "e47b4a11"
    },
    {
      "cell_type": "code",
      "metadata": {
        "id": "607c0893"
      },
      "source": [
        "from sklearn.preprocessing import MinMaxScaler\n",
        "scale = MinMaxScaler()\n",
        "scls = ['Meninggal Harian (Jakarta)',\n",
        "       'Self-Isolation Harian (Jakarta)', 'Dirawat Harian (Jakarta)',\n",
        "     'Vaksinasi 2_TotalDKIjkt',\n",
        "       'Orang Positif Harian']\n",
        "X_train1[scls] = scale.fit_transform(X_train1[scls])"
      ],
      "id": "607c0893",
      "execution_count": 56,
      "outputs": []
    },
    {
      "cell_type": "code",
      "metadata": {
        "id": "3070ea59",
        "colab": {
          "base_uri": "https://localhost:8080/",
          "height": 423
        },
        "outputId": "ca63b6f9-c6db-4098-e749-208983d88f35"
      },
      "source": [
        "X_train1"
      ],
      "id": "3070ea59",
      "execution_count": 57,
      "outputs": [
        {
          "output_type": "execute_result",
          "data": {
            "text/html": [
              "\n",
              "  <div id=\"df-d55710c6-47fa-4046-b580-ba079ba8f09c\">\n",
              "    <div class=\"colab-df-container\">\n",
              "      <div>\n",
              "<style scoped>\n",
              "    .dataframe tbody tr th:only-of-type {\n",
              "        vertical-align: middle;\n",
              "    }\n",
              "\n",
              "    .dataframe tbody tr th {\n",
              "        vertical-align: top;\n",
              "    }\n",
              "\n",
              "    .dataframe thead th {\n",
              "        text-align: right;\n",
              "    }\n",
              "</style>\n",
              "<table border=\"1\" class=\"dataframe\">\n",
              "  <thead>\n",
              "    <tr style=\"text-align: right;\">\n",
              "      <th></th>\n",
              "      <th>Meninggal Harian (Jakarta)</th>\n",
              "      <th>Self-Isolation Harian (Jakarta)</th>\n",
              "      <th>Dirawat Harian (Jakarta)</th>\n",
              "      <th>Vaksinasi 2_TotalDKIjkt</th>\n",
              "      <th>Orang Positif Harian</th>\n",
              "      <th>Positivity Rate Kasus Baru Harian</th>\n",
              "    </tr>\n",
              "  </thead>\n",
              "  <tbody>\n",
              "    <tr>\n",
              "      <th>0</th>\n",
              "      <td>0.118321</td>\n",
              "      <td>0.613805</td>\n",
              "      <td>0.513827</td>\n",
              "      <td>0.000000</td>\n",
              "      <td>0.187301</td>\n",
              "      <td>0.194971</td>\n",
              "    </tr>\n",
              "    <tr>\n",
              "      <th>1</th>\n",
              "      <td>0.248092</td>\n",
              "      <td>0.736828</td>\n",
              "      <td>0.478293</td>\n",
              "      <td>0.408389</td>\n",
              "      <td>0.895767</td>\n",
              "      <td>0.411719</td>\n",
              "    </tr>\n",
              "    <tr>\n",
              "      <th>2</th>\n",
              "      <td>0.133588</td>\n",
              "      <td>0.407049</td>\n",
              "      <td>0.000000</td>\n",
              "      <td>0.409726</td>\n",
              "      <td>1.000000</td>\n",
              "      <td>0.413246</td>\n",
              "    </tr>\n",
              "    <tr>\n",
              "      <th>3</th>\n",
              "      <td>0.087786</td>\n",
              "      <td>0.546620</td>\n",
              "      <td>0.543711</td>\n",
              "      <td>0.000000</td>\n",
              "      <td>0.198160</td>\n",
              "      <td>0.149891</td>\n",
              "    </tr>\n",
              "    <tr>\n",
              "      <th>4</th>\n",
              "      <td>0.133588</td>\n",
              "      <td>0.649262</td>\n",
              "      <td>0.580731</td>\n",
              "      <td>0.000000</td>\n",
              "      <td>0.202448</td>\n",
              "      <td>0.189308</td>\n",
              "    </tr>\n",
              "    <tr>\n",
              "      <th>...</th>\n",
              "      <td>...</td>\n",
              "      <td>...</td>\n",
              "      <td>...</td>\n",
              "      <td>...</td>\n",
              "      <td>...</td>\n",
              "      <td>...</td>\n",
              "    </tr>\n",
              "    <tr>\n",
              "      <th>585</th>\n",
              "      <td>0.599237</td>\n",
              "      <td>0.315123</td>\n",
              "      <td>0.516354</td>\n",
              "      <td>0.442556</td>\n",
              "      <td>0.560589</td>\n",
              "      <td>0.247918</td>\n",
              "    </tr>\n",
              "    <tr>\n",
              "      <th>586</th>\n",
              "      <td>0.347328</td>\n",
              "      <td>0.559594</td>\n",
              "      <td>0.401725</td>\n",
              "      <td>0.417822</td>\n",
              "      <td>0.544889</td>\n",
              "      <td>0.256474</td>\n",
              "    </tr>\n",
              "    <tr>\n",
              "      <th>587</th>\n",
              "      <td>0.496183</td>\n",
              "      <td>0.544151</td>\n",
              "      <td>0.444395</td>\n",
              "      <td>0.564641</td>\n",
              "      <td>0.135358</td>\n",
              "      <td>0.130459</td>\n",
              "    </tr>\n",
              "    <tr>\n",
              "      <th>588</th>\n",
              "      <td>0.576336</td>\n",
              "      <td>0.063455</td>\n",
              "      <td>0.571216</td>\n",
              "      <td>0.490801</td>\n",
              "      <td>0.349979</td>\n",
              "      <td>0.187549</td>\n",
              "    </tr>\n",
              "    <tr>\n",
              "      <th>589</th>\n",
              "      <td>0.068702</td>\n",
              "      <td>0.589956</td>\n",
              "      <td>0.570324</td>\n",
              "      <td>0.750032</td>\n",
              "      <td>0.097939</td>\n",
              "      <td>0.093078</td>\n",
              "    </tr>\n",
              "  </tbody>\n",
              "</table>\n",
              "<p>590 rows × 6 columns</p>\n",
              "</div>\n",
              "      <button class=\"colab-df-convert\" onclick=\"convertToInteractive('df-d55710c6-47fa-4046-b580-ba079ba8f09c')\"\n",
              "              title=\"Convert this dataframe to an interactive table.\"\n",
              "              style=\"display:none;\">\n",
              "        \n",
              "  <svg xmlns=\"http://www.w3.org/2000/svg\" height=\"24px\"viewBox=\"0 0 24 24\"\n",
              "       width=\"24px\">\n",
              "    <path d=\"M0 0h24v24H0V0z\" fill=\"none\"/>\n",
              "    <path d=\"M18.56 5.44l.94 2.06.94-2.06 2.06-.94-2.06-.94-.94-2.06-.94 2.06-2.06.94zm-11 1L8.5 8.5l.94-2.06 2.06-.94-2.06-.94L8.5 2.5l-.94 2.06-2.06.94zm10 10l.94 2.06.94-2.06 2.06-.94-2.06-.94-.94-2.06-.94 2.06-2.06.94z\"/><path d=\"M17.41 7.96l-1.37-1.37c-.4-.4-.92-.59-1.43-.59-.52 0-1.04.2-1.43.59L10.3 9.45l-7.72 7.72c-.78.78-.78 2.05 0 2.83L4 21.41c.39.39.9.59 1.41.59.51 0 1.02-.2 1.41-.59l7.78-7.78 2.81-2.81c.8-.78.8-2.07 0-2.86zM5.41 20L4 18.59l7.72-7.72 1.47 1.35L5.41 20z\"/>\n",
              "  </svg>\n",
              "      </button>\n",
              "      \n",
              "  <style>\n",
              "    .colab-df-container {\n",
              "      display:flex;\n",
              "      flex-wrap:wrap;\n",
              "      gap: 12px;\n",
              "    }\n",
              "\n",
              "    .colab-df-convert {\n",
              "      background-color: #E8F0FE;\n",
              "      border: none;\n",
              "      border-radius: 50%;\n",
              "      cursor: pointer;\n",
              "      display: none;\n",
              "      fill: #1967D2;\n",
              "      height: 32px;\n",
              "      padding: 0 0 0 0;\n",
              "      width: 32px;\n",
              "    }\n",
              "\n",
              "    .colab-df-convert:hover {\n",
              "      background-color: #E2EBFA;\n",
              "      box-shadow: 0px 1px 2px rgba(60, 64, 67, 0.3), 0px 1px 3px 1px rgba(60, 64, 67, 0.15);\n",
              "      fill: #174EA6;\n",
              "    }\n",
              "\n",
              "    [theme=dark] .colab-df-convert {\n",
              "      background-color: #3B4455;\n",
              "      fill: #D2E3FC;\n",
              "    }\n",
              "\n",
              "    [theme=dark] .colab-df-convert:hover {\n",
              "      background-color: #434B5C;\n",
              "      box-shadow: 0px 1px 3px 1px rgba(0, 0, 0, 0.15);\n",
              "      filter: drop-shadow(0px 1px 2px rgba(0, 0, 0, 0.3));\n",
              "      fill: #FFFFFF;\n",
              "    }\n",
              "  </style>\n",
              "\n",
              "      <script>\n",
              "        const buttonEl =\n",
              "          document.querySelector('#df-d55710c6-47fa-4046-b580-ba079ba8f09c button.colab-df-convert');\n",
              "        buttonEl.style.display =\n",
              "          google.colab.kernel.accessAllowed ? 'block' : 'none';\n",
              "\n",
              "        async function convertToInteractive(key) {\n",
              "          const element = document.querySelector('#df-d55710c6-47fa-4046-b580-ba079ba8f09c');\n",
              "          const dataTable =\n",
              "            await google.colab.kernel.invokeFunction('convertToInteractive',\n",
              "                                                     [key], {});\n",
              "          if (!dataTable) return;\n",
              "\n",
              "          const docLinkHtml = 'Like what you see? Visit the ' +\n",
              "            '<a target=\"_blank\" href=https://colab.research.google.com/notebooks/data_table.ipynb>data table notebook</a>'\n",
              "            + ' to learn more about interactive tables.';\n",
              "          element.innerHTML = '';\n",
              "          dataTable['output_type'] = 'display_data';\n",
              "          await google.colab.output.renderOutput(dataTable, element);\n",
              "          const docLink = document.createElement('div');\n",
              "          docLink.innerHTML = docLinkHtml;\n",
              "          element.appendChild(docLink);\n",
              "        }\n",
              "      </script>\n",
              "    </div>\n",
              "  </div>\n",
              "  "
            ],
            "text/plain": [
              "     Meninggal Harian (Jakarta)  Self-Isolation Harian (Jakarta)  \\\n",
              "0                      0.118321                         0.613805   \n",
              "1                      0.248092                         0.736828   \n",
              "2                      0.133588                         0.407049   \n",
              "3                      0.087786                         0.546620   \n",
              "4                      0.133588                         0.649262   \n",
              "..                          ...                              ...   \n",
              "585                    0.599237                         0.315123   \n",
              "586                    0.347328                         0.559594   \n",
              "587                    0.496183                         0.544151   \n",
              "588                    0.576336                         0.063455   \n",
              "589                    0.068702                         0.589956   \n",
              "\n",
              "     Dirawat Harian (Jakarta)  Vaksinasi 2_TotalDKIjkt  Orang Positif Harian  \\\n",
              "0                    0.513827                 0.000000              0.187301   \n",
              "1                    0.478293                 0.408389              0.895767   \n",
              "2                    0.000000                 0.409726              1.000000   \n",
              "3                    0.543711                 0.000000              0.198160   \n",
              "4                    0.580731                 0.000000              0.202448   \n",
              "..                        ...                      ...                   ...   \n",
              "585                  0.516354                 0.442556              0.560589   \n",
              "586                  0.401725                 0.417822              0.544889   \n",
              "587                  0.444395                 0.564641              0.135358   \n",
              "588                  0.571216                 0.490801              0.349979   \n",
              "589                  0.570324                 0.750032              0.097939   \n",
              "\n",
              "     Positivity Rate Kasus Baru Harian  \n",
              "0                             0.194971  \n",
              "1                             0.411719  \n",
              "2                             0.413246  \n",
              "3                             0.149891  \n",
              "4                             0.189308  \n",
              "..                                 ...  \n",
              "585                           0.247918  \n",
              "586                           0.256474  \n",
              "587                           0.130459  \n",
              "588                           0.187549  \n",
              "589                           0.093078  \n",
              "\n",
              "[590 rows x 6 columns]"
            ]
          },
          "metadata": {},
          "execution_count": 57
        }
      ]
    },
    {
      "cell_type": "markdown",
      "metadata": {
        "id": "40233db2"
      },
      "source": [
        "# Model and Tuning using RandomizedSearchCV"
      ],
      "id": "40233db2"
    },
    {
      "cell_type": "code",
      "metadata": {
        "id": "5f21cb64"
      },
      "source": [
        "from sklearn import svm\n",
        "from sklearn.ensemble import RandomForestClassifier,AdaBoostClassifier,BaggingClassifier,GradientBoostingClassifier\n",
        "from sklearn.linear_model import LogisticRegression\n",
        "from xgboost import XGBClassifier\n",
        "from sklearn.tree import DecisionTreeClassifier\n",
        "from sklearn.metrics import classification_report\n",
        "from scipy.stats import randint\n",
        "import scipy.stats as stats"
      ],
      "id": "5f21cb64",
      "execution_count": 58,
      "outputs": []
    },
    {
      "cell_type": "code",
      "metadata": {
        "id": "29af7b7d"
      },
      "source": [
        "model_params = {\n",
        "    'random_forest': {\n",
        "        'model': RandomForestClassifier(),\n",
        "        'params' : {\n",
        "            'n_estimators': [200, 500],\n",
        "            'max_features': ['auto', 'sqrt', 'log2'],\n",
        "            'max_depth' : [4,5,6,7,8],\n",
        "            'criterion' :['gini', 'entropy']\n",
        "        }\n",
        "    },\n",
        "    'decision_tree':{\n",
        "        'model':DecisionTreeClassifier(),\n",
        "        'params':{\n",
        "            'splitter':['best','random'],\n",
        "            'max_features': ['auto', 'sqrt', 'log2'],\n",
        "            'max_depth' : [4,5,6,7,8],\n",
        "            'criterion' :['gini', 'entropy']\n",
        "        }\n",
        "    },\n",
        "    'adaboost':{\n",
        "        'model':AdaBoostClassifier(),\n",
        "        'params':{\n",
        "            'n_estimators':[200,500],\n",
        "            'algorithm':['SAMME','SAMME.R'],\n",
        "        }\n",
        "    },\n",
        "    'bagging':{\n",
        "        'model':BaggingClassifier(),\n",
        "        'params':{'n_estimators':[200,500],\n",
        "        'oob_score':[True,False],\n",
        "        'warm_start':[True,False],\n",
        "        'bootstrap_features':[True,False]\n",
        "    }},\n",
        "    'Gradient':{\n",
        "        'model':GradientBoostingClassifier(),\n",
        "        'params':{\n",
        "            'n_estimators':[200,500],\n",
        "            'loss' : ['deviance', 'exponential'],\n",
        "            'criterion':['friedman_mse', 'mse', 'mae'],\n",
        "            'max_depth':range(1,10),\n",
        "            'max_features':['auto', 'sqrt', 'log2'],\n",
        "            'warm_start':[True,False]\n",
        "        }\n",
        "    }\n",
        "    \n",
        "    }"
      ],
      "id": "29af7b7d",
      "execution_count": 59,
      "outputs": []
    },
    {
      "cell_type": "code",
      "metadata": {
        "scrolled": false,
        "id": "d0eb90ce"
      },
      "source": [
        "# scores = []\n",
        "# from sklearn.model_selection import RandomizedSearchCV\n",
        "# for model_name, mp in model_params.items():\n",
        "#     clf =  RandomizedSearchCV(mp['model'], mp['params'], cv=10,n_iter=2, return_train_score=False)\n",
        "#     clf.fit(X_train1,y_train1)\n",
        "#     scores.append({\n",
        "#         'model': model_name,\n",
        "#         'best_score': clf.best_score_,\n",
        "#         'best_params': clf.best_params_\n",
        "#     })\n",
        "    \n",
        "# best = pd.DataFrame(scores,columns=['model','best_score','best_params'])"
      ],
      "id": "d0eb90ce",
      "execution_count": 60,
      "outputs": []
    },
    {
      "cell_type": "code",
      "metadata": {
        "id": "5a49cb14"
      },
      "source": [
        "# best.sort_values(by='best_score')"
      ],
      "id": "5a49cb14",
      "execution_count": 61,
      "outputs": []
    },
    {
      "cell_type": "code",
      "metadata": {
        "id": "9e1a3199"
      },
      "source": [
        "RFC = DecisionTreeClassifier(splitter='best',max_features='sqrt',max_depth=5,criterion='entropy')\n",
        "\n",
        "\n",
        "# # RFC = RandomForestClassifier(n_estimators=200,max_features='log2',max_depth=7,criterion='entropy')\n",
        "clf = RFC.fit(X_train1,y_train1)"
      ],
      "id": "9e1a3199",
      "execution_count": 62,
      "outputs": []
    },
    {
      "cell_type": "markdown",
      "metadata": {
        "id": "33449b56"
      },
      "source": [
        "# Model Evaluation"
      ],
      "id": "33449b56"
    },
    {
      "cell_type": "markdown",
      "metadata": {
        "id": "c6bbbdac"
      },
      "source": [
        "### Train Validation"
      ],
      "id": "c6bbbdac"
    },
    {
      "cell_type": "code",
      "metadata": {
        "id": "875d47cf",
        "colab": {
          "base_uri": "https://localhost:8080/",
          "height": 534
        },
        "outputId": "be08ac4b-0020-479c-8ae3-bd067390c61c"
      },
      "source": [
        "from sklearn.metrics import plot_confusion_matrix\n",
        "y_pred = clf.predict(X_train1)\n",
        "print(classification_report(y_train1,y_pred),'\\n')\n",
        "plot_confusion_matrix(clf,X_train1,y_train1)"
      ],
      "id": "875d47cf",
      "execution_count": 63,
      "outputs": [
        {
          "output_type": "stream",
          "name": "stdout",
          "text": [
            "              precision    recall  f1-score   support\n",
            "\n",
            "         0.0       0.99      1.00      1.00       118\n",
            "         1.0       1.00      0.87      0.93       118\n",
            "         2.0       0.89      1.00      0.94       118\n",
            "         3.0       1.00      1.00      1.00       118\n",
            "         4.0       1.00      1.00      1.00       118\n",
            "\n",
            "    accuracy                           0.97       590\n",
            "   macro avg       0.98      0.97      0.97       590\n",
            "weighted avg       0.98      0.97      0.97       590\n",
            " \n",
            "\n"
          ]
        },
        {
          "output_type": "execute_result",
          "data": {
            "text/plain": [
              "<sklearn.metrics._plot.confusion_matrix.ConfusionMatrixDisplay at 0x7fe2e5b46210>"
            ]
          },
          "metadata": {},
          "execution_count": 63
        },
        {
          "output_type": "display_data",
          "data": {
            "image/png": "[encoded data removed]",
            "text/plain": [
              "<Figure size 432x288 with 2 Axes>"
            ]
          },
          "metadata": {
            "needs_background": "light"
          }
        }
      ]
    },
    {
      "cell_type": "markdown",
      "metadata": {
        "id": "c50a0647"
      },
      "source": [
        "### Validation Data"
      ],
      "id": "c50a0647"
    },
    {
      "cell_type": "code",
      "metadata": {
        "id": "afc4b743"
      },
      "source": [
        "X_val[scls] = scale.transform(X_val[scls])"
      ],
      "id": "afc4b743",
      "execution_count": 64,
      "outputs": []
    },
    {
      "cell_type": "code",
      "metadata": {
        "id": "db4e0a91",
        "colab": {
          "base_uri": "https://localhost:8080/"
        },
        "outputId": "24b03fe3-6296-4624-d5da-5ac3630a9eb3"
      },
      "source": [
        "y_pred = clf.predict(X_val)\n",
        "print(classification_report(y_val,y_pred),'\\n')"
      ],
      "id": "db4e0a91",
      "execution_count": 65,
      "outputs": [
        {
          "output_type": "stream",
          "name": "stdout",
          "text": [
            "              precision    recall  f1-score   support\n",
            "\n",
            "         1.0       0.92      0.88      0.90        26\n",
            "         2.0       0.62      0.71      0.67         7\n",
            "         3.0       1.00      1.00      1.00         7\n",
            "         4.0       1.00      1.00      1.00         7\n",
            "\n",
            "    accuracy                           0.89        47\n",
            "   macro avg       0.89      0.90      0.89        47\n",
            "weighted avg       0.90      0.89      0.90        47\n",
            " \n",
            "\n"
          ]
        }
      ]
    },
    {
      "cell_type": "code",
      "metadata": {
        "id": "26fb8b1a",
        "colab": {
          "base_uri": "https://localhost:8080/",
          "height": 297
        },
        "outputId": "812541a8-8707-46ac-e867-d4b5897a96d7"
      },
      "source": [
        "from sklearn.metrics import plot_confusion_matrix\n",
        "plot_confusion_matrix(clf,X_val,y_val)"
      ],
      "id": "26fb8b1a",
      "execution_count": 66,
      "outputs": [
        {
          "output_type": "execute_result",
          "data": {
            "text/plain": [
              "<sklearn.metrics._plot.confusion_matrix.ConfusionMatrixDisplay at 0x7fe2e5ab5610>"
            ]
          },
          "metadata": {},
          "execution_count": 66
        },
        {
          "output_type": "display_data",
          "data": {
            "image/png": "[encoded data removed]",
            "text/plain": [
              "<Figure size 432x288 with 2 Axes>"
            ]
          },
          "metadata": {
            "needs_background": "light"
          }
        }
      ]
    },
    {
      "cell_type": "code",
      "metadata": {
        "id": "2bbef034",
        "colab": {
          "base_uri": "https://localhost:8080/"
        },
        "outputId": "8019e227-e0fd-4f84-ff76-24b03d4cf9df"
      },
      "source": [
        "print('-'*100)"
      ],
      "id": "2bbef034",
      "execution_count": 67,
      "outputs": [
        {
          "output_type": "stream",
          "name": "stdout",
          "text": [
            "----------------------------------------------------------------------------------------------------\n"
          ]
        }
      ]
    },
    {
      "cell_type": "markdown",
      "metadata": {
        "id": "da0f4ed8"
      },
      "source": [
        "## Train_test_split Manual"
      ],
      "id": "da0f4ed8"
    },
    {
      "cell_type": "code",
      "metadata": {
        "id": "d39ba5a9",
        "colab": {
          "base_uri": "https://localhost:8080/"
        },
        "outputId": "c09c33e9-50b9-4c00-9cb8-52d86801ca47"
      },
      "source": [
        "df.shape[0]*0.91"
      ],
      "id": "d39ba5a9",
      "execution_count": 68,
      "outputs": [
        {
          "output_type": "execute_result",
          "data": {
            "text/plain": [
              "212.03"
            ]
          },
          "metadata": {},
          "execution_count": 68
        }
      ]
    },
    {
      "cell_type": "code",
      "metadata": {
        "id": "f2ad57ed"
      },
      "source": [
        "df_train = df.iloc[:212,:]\n",
        "df_test = df.iloc[212:,:]"
      ],
      "id": "f2ad57ed",
      "execution_count": 69,
      "outputs": []
    },
    {
      "cell_type": "code",
      "metadata": {
        "id": "14da7028"
      },
      "source": [
        "df_train = df_train[['Meninggal Harian (Jakarta)', 'Self-Isolation Harian (Jakarta)',\n",
        "       'Dirawat Harian (Jakarta)', 'Vaksinasi 2_TotalDKIjkt',\n",
        "       'Orang Positif Harian', 'Positivity Rate Kasus Baru Harian','LABEL ']]\n",
        "df_test = df_test[['Meninggal Harian (Jakarta)', 'Self-Isolation Harian (Jakarta)',\n",
        "       'Dirawat Harian (Jakarta)', 'Vaksinasi 2_TotalDKIjkt',\n",
        "       'Orang Positif Harian', 'Positivity Rate Kasus Baru Harian','LABEL ']]"
      ],
      "id": "14da7028",
      "execution_count": 70,
      "outputs": []
    },
    {
      "cell_type": "code",
      "metadata": {
        "id": "ab257cd2"
      },
      "source": [
        "X_train_urut = df_train.drop(columns=['LABEL '])\n",
        "y_train_urut = df_train['LABEL ']"
      ],
      "id": "ab257cd2",
      "execution_count": 71,
      "outputs": []
    },
    {
      "cell_type": "code",
      "metadata": {
        "id": "e40f24b5",
        "colab": {
          "base_uri": "https://localhost:8080/",
          "height": 423
        },
        "outputId": "fe294120-e892-4842-dab8-8b9b13ada0d8"
      },
      "source": [
        "X_train_urut"
      ],
      "id": "e40f24b5",
      "execution_count": 72,
      "outputs": [
        {
          "output_type": "execute_result",
          "data": {
            "text/html": [
              "\n",
              "  <div id=\"df-f96370b6-cda2-42fe-a28e-624c7ace5da1\">\n",
              "    <div class=\"colab-df-container\">\n",
              "      <div>\n",
              "<style scoped>\n",
              "    .dataframe tbody tr th:only-of-type {\n",
              "        vertical-align: middle;\n",
              "    }\n",
              "\n",
              "    .dataframe tbody tr th {\n",
              "        vertical-align: top;\n",
              "    }\n",
              "\n",
              "    .dataframe thead th {\n",
              "        text-align: right;\n",
              "    }\n",
              "</style>\n",
              "<table border=\"1\" class=\"dataframe\">\n",
              "  <thead>\n",
              "    <tr style=\"text-align: right;\">\n",
              "      <th></th>\n",
              "      <th>Meninggal Harian (Jakarta)</th>\n",
              "      <th>Self-Isolation Harian (Jakarta)</th>\n",
              "      <th>Dirawat Harian (Jakarta)</th>\n",
              "      <th>Vaksinasi 2_TotalDKIjkt</th>\n",
              "      <th>Orang Positif Harian</th>\n",
              "      <th>Positivity Rate Kasus Baru Harian</th>\n",
              "    </tr>\n",
              "  </thead>\n",
              "  <tbody>\n",
              "    <tr>\n",
              "      <th>0</th>\n",
              "      <td>21</td>\n",
              "      <td>336</td>\n",
              "      <td>-32</td>\n",
              "      <td>0</td>\n",
              "      <td>1281</td>\n",
              "      <td>0.163978</td>\n",
              "    </tr>\n",
              "    <tr>\n",
              "      <th>1</th>\n",
              "      <td>26</td>\n",
              "      <td>790</td>\n",
              "      <td>-1190</td>\n",
              "      <td>0</td>\n",
              "      <td>1960</td>\n",
              "      <td>0.155420</td>\n",
              "    </tr>\n",
              "    <tr>\n",
              "      <th>2</th>\n",
              "      <td>11</td>\n",
              "      <td>106</td>\n",
              "      <td>-189</td>\n",
              "      <td>0</td>\n",
              "      <td>1671</td>\n",
              "      <td>0.160812</td>\n",
              "    </tr>\n",
              "    <tr>\n",
              "      <th>3</th>\n",
              "      <td>24</td>\n",
              "      <td>-607</td>\n",
              "      <td>-111</td>\n",
              "      <td>0</td>\n",
              "      <td>2186</td>\n",
              "      <td>0.116823</td>\n",
              "    </tr>\n",
              "    <tr>\n",
              "      <th>4</th>\n",
              "      <td>23</td>\n",
              "      <td>526</td>\n",
              "      <td>180</td>\n",
              "      <td>0</td>\n",
              "      <td>2420</td>\n",
              "      <td>0.126549</td>\n",
              "    </tr>\n",
              "    <tr>\n",
              "      <th>...</th>\n",
              "      <td>...</td>\n",
              "      <td>...</td>\n",
              "      <td>...</td>\n",
              "      <td>...</td>\n",
              "      <td>...</td>\n",
              "      <td>...</td>\n",
              "    </tr>\n",
              "    <tr>\n",
              "      <th>207</th>\n",
              "      <td>170</td>\n",
              "      <td>-11310</td>\n",
              "      <td>124</td>\n",
              "      <td>2321531</td>\n",
              "      <td>5525</td>\n",
              "      <td>0.195582</td>\n",
              "    </tr>\n",
              "    <tr>\n",
              "      <th>208</th>\n",
              "      <td>82</td>\n",
              "      <td>-4629</td>\n",
              "      <td>-963</td>\n",
              "      <td>2410672</td>\n",
              "      <td>3845</td>\n",
              "      <td>0.151128</td>\n",
              "    </tr>\n",
              "    <tr>\n",
              "      <th>209</th>\n",
              "      <td>156</td>\n",
              "      <td>-5656</td>\n",
              "      <td>-2095</td>\n",
              "      <td>2426508</td>\n",
              "      <td>3454</td>\n",
              "      <td>0.146468</td>\n",
              "    </tr>\n",
              "    <tr>\n",
              "      <th>210</th>\n",
              "      <td>108</td>\n",
              "      <td>-5412</td>\n",
              "      <td>-2400</td>\n",
              "      <td>2543030</td>\n",
              "      <td>3329</td>\n",
              "      <td>0.135474</td>\n",
              "    </tr>\n",
              "    <tr>\n",
              "      <th>211</th>\n",
              "      <td>183</td>\n",
              "      <td>-1130</td>\n",
              "      <td>-674</td>\n",
              "      <td>2667299</td>\n",
              "      <td>2701</td>\n",
              "      <td>0.137673</td>\n",
              "    </tr>\n",
              "  </tbody>\n",
              "</table>\n",
              "<p>212 rows × 6 columns</p>\n",
              "</div>\n",
              "      <button class=\"colab-df-convert\" onclick=\"convertToInteractive('df-f96370b6-cda2-42fe-a28e-624c7ace5da1')\"\n",
              "              title=\"Convert this dataframe to an interactive table.\"\n",
              "              style=\"display:none;\">\n",
              "        \n",
              "  <svg xmlns=\"http://www.w3.org/2000/svg\" height=\"24px\"viewBox=\"0 0 24 24\"\n",
              "       width=\"24px\">\n",
              "    <path d=\"M0 0h24v24H0V0z\" fill=\"none\"/>\n",
              "    <path d=\"M18.56 5.44l.94 2.06.94-2.06 2.06-.94-2.06-.94-.94-2.06-.94 2.06-2.06.94zm-11 1L8.5 8.5l.94-2.06 2.06-.94-2.06-.94L8.5 2.5l-.94 2.06-2.06.94zm10 10l.94 2.06.94-2.06 2.06-.94-2.06-.94-.94-2.06-.94 2.06-2.06.94z\"/><path d=\"M17.41 7.96l-1.37-1.37c-.4-.4-.92-.59-1.43-.59-.52 0-1.04.2-1.43.59L10.3 9.45l-7.72 7.72c-.78.78-.78 2.05 0 2.83L4 21.41c.39.39.9.59 1.41.59.51 0 1.02-.2 1.41-.59l7.78-7.78 2.81-2.81c.8-.78.8-2.07 0-2.86zM5.41 20L4 18.59l7.72-7.72 1.47 1.35L5.41 20z\"/>\n",
              "  </svg>\n",
              "      </button>\n",
              "      \n",
              "  <style>\n",
              "    .colab-df-container {\n",
              "      display:flex;\n",
              "      flex-wrap:wrap;\n",
              "      gap: 12px;\n",
              "    }\n",
              "\n",
              "    .colab-df-convert {\n",
              "      background-color: #E8F0FE;\n",
              "      border: none;\n",
              "      border-radius: 50%;\n",
              "      cursor: pointer;\n",
              "      display: none;\n",
              "      fill: #1967D2;\n",
              "      height: 32px;\n",
              "      padding: 0 0 0 0;\n",
              "      width: 32px;\n",
              "    }\n",
              "\n",
              "    .colab-df-convert:hover {\n",
              "      background-color: #E2EBFA;\n",
              "      box-shadow: 0px 1px 2px rgba(60, 64, 67, 0.3), 0px 1px 3px 1px rgba(60, 64, 67, 0.15);\n",
              "      fill: #174EA6;\n",
              "    }\n",
              "\n",
              "    [theme=dark] .colab-df-convert {\n",
              "      background-color: #3B4455;\n",
              "      fill: #D2E3FC;\n",
              "    }\n",
              "\n",
              "    [theme=dark] .colab-df-convert:hover {\n",
              "      background-color: #434B5C;\n",
              "      box-shadow: 0px 1px 3px 1px rgba(0, 0, 0, 0.15);\n",
              "      filter: drop-shadow(0px 1px 2px rgba(0, 0, 0, 0.3));\n",
              "      fill: #FFFFFF;\n",
              "    }\n",
              "  </style>\n",
              "\n",
              "      <script>\n",
              "        const buttonEl =\n",
              "          document.querySelector('#df-f96370b6-cda2-42fe-a28e-624c7ace5da1 button.colab-df-convert');\n",
              "        buttonEl.style.display =\n",
              "          google.colab.kernel.accessAllowed ? 'block' : 'none';\n",
              "\n",
              "        async function convertToInteractive(key) {\n",
              "          const element = document.querySelector('#df-f96370b6-cda2-42fe-a28e-624c7ace5da1');\n",
              "          const dataTable =\n",
              "            await google.colab.kernel.invokeFunction('convertToInteractive',\n",
              "                                                     [key], {});\n",
              "          if (!dataTable) return;\n",
              "\n",
              "          const docLinkHtml = 'Like what you see? Visit the ' +\n",
              "            '<a target=\"_blank\" href=https://colab.research.google.com/notebooks/data_table.ipynb>data table notebook</a>'\n",
              "            + ' to learn more about interactive tables.';\n",
              "          element.innerHTML = '';\n",
              "          dataTable['output_type'] = 'display_data';\n",
              "          await google.colab.output.renderOutput(dataTable, element);\n",
              "          const docLink = document.createElement('div');\n",
              "          docLink.innerHTML = docLinkHtml;\n",
              "          element.appendChild(docLink);\n",
              "        }\n",
              "      </script>\n",
              "    </div>\n",
              "  </div>\n",
              "  "
            ],
            "text/plain": [
              "     Meninggal Harian (Jakarta)  Self-Isolation Harian (Jakarta)  \\\n",
              "0                            21                              336   \n",
              "1                            26                              790   \n",
              "2                            11                              106   \n",
              "3                            24                             -607   \n",
              "4                            23                              526   \n",
              "..                          ...                              ...   \n",
              "207                         170                           -11310   \n",
              "208                          82                            -4629   \n",
              "209                         156                            -5656   \n",
              "210                         108                            -5412   \n",
              "211                         183                            -1130   \n",
              "\n",
              "     Dirawat Harian (Jakarta)  Vaksinasi 2_TotalDKIjkt  Orang Positif Harian  \\\n",
              "0                         -32                        0                  1281   \n",
              "1                       -1190                        0                  1960   \n",
              "2                        -189                        0                  1671   \n",
              "3                        -111                        0                  2186   \n",
              "4                         180                        0                  2420   \n",
              "..                        ...                      ...                   ...   \n",
              "207                       124                  2321531                  5525   \n",
              "208                      -963                  2410672                  3845   \n",
              "209                     -2095                  2426508                  3454   \n",
              "210                     -2400                  2543030                  3329   \n",
              "211                      -674                  2667299                  2701   \n",
              "\n",
              "     Positivity Rate Kasus Baru Harian  \n",
              "0                             0.163978  \n",
              "1                             0.155420  \n",
              "2                             0.160812  \n",
              "3                             0.116823  \n",
              "4                             0.126549  \n",
              "..                                 ...  \n",
              "207                           0.195582  \n",
              "208                           0.151128  \n",
              "209                           0.146468  \n",
              "210                           0.135474  \n",
              "211                           0.137673  \n",
              "\n",
              "[212 rows x 6 columns]"
            ]
          },
          "metadata": {},
          "execution_count": 72
        }
      ]
    },
    {
      "cell_type": "code",
      "metadata": {
        "id": "b948d19b"
      },
      "source": [
        "X_val_urut = df_test.drop(columns=['LABEL '])\n",
        "y_val_urut = df_test['LABEL ']"
      ],
      "id": "b948d19b",
      "execution_count": 73,
      "outputs": []
    },
    {
      "cell_type": "code",
      "metadata": {
        "id": "49d85ab9",
        "colab": {
          "base_uri": "https://localhost:8080/",
          "height": 541
        },
        "outputId": "345a576f-a669-44a4-8bd9-25239eb863d7"
      },
      "source": [
        "# SMMMMOTE \n",
        "\n",
        "\n",
        "\n",
        "from imblearn.over_sampling import SMOTE\n",
        "from collections import Counter\n",
        "oversample = SMOTE(k_neighbors=2)\n",
        "X_train_urut, y_train_urut = oversample.fit_resample(X_train_urut, y_train_urut)\n",
        "\n",
        "# from imblearn.under_sampling import RandomUnderSampler\n",
        "# # define undersample strategy\n",
        "# undersample = RandomUnderSampler(sampling_strategy='majority')\n",
        "# # fit and apply the transform\n",
        "# X_train1, y_train1 = undersample.fit_resample(X_train1, y_train1)\n",
        "\n",
        "sns.countplot(y,palette='viridis')\n",
        "plt.show()\n",
        "\n",
        "sns.countplot(y_train_urut,palette='viridis')\n",
        "plt.show()"
      ],
      "id": "49d85ab9",
      "execution_count": 74,
      "outputs": [
        {
          "output_type": "display_data",
          "data": {
            "image/png": "[encoded data removed]",
            "text/plain": [
              "<Figure size 432x288 with 1 Axes>"
            ]
          },
          "metadata": {
            "needs_background": "light"
          }
        },
        {
          "output_type": "display_data",
          "data": {
            "image/png": "[encoded data removed]",
            "text/plain": [
              "<Figure size 432x288 with 1 Axes>"
            ]
          },
          "metadata": {
            "needs_background": "light"
          }
        }
      ]
    },
    {
      "cell_type": "code",
      "metadata": {
        "id": "1fb48f45"
      },
      "source": [
        "## Scaling\n",
        "\n",
        "\n",
        "from sklearn.preprocessing import MinMaxScaler\n",
        "scale = MinMaxScaler()\n",
        "scls = ['Meninggal Harian (Jakarta)',\n",
        "       'Self-Isolation Harian (Jakarta)', 'Dirawat Harian (Jakarta)',\n",
        "     'Vaksinasi 2_TotalDKIjkt',\n",
        "       'Orang Positif Harian']\n",
        "X_train_urut[scls] = scale.fit_transform(X_train_urut[scls])"
      ],
      "id": "1fb48f45",
      "execution_count": 75,
      "outputs": []
    },
    {
      "cell_type": "code",
      "metadata": {
        "id": "7adab917"
      },
      "source": [
        "RFC = DecisionTreeClassifier(splitter='best',max_features='sqrt',max_depth=5,criterion='entropy')\n",
        "\n",
        "\n",
        "# # RFC = RandomForestClassifier(n_estimators=200,max_features='log2',max_depth=7,criterion='entropy')\n",
        "clf = RFC.fit(X_train_urut,y_train_urut)"
      ],
      "id": "7adab917",
      "execution_count": 76,
      "outputs": []
    },
    {
      "cell_type": "code",
      "metadata": {
        "id": "8012ae8f",
        "colab": {
          "base_uri": "https://localhost:8080/"
        },
        "outputId": "89bc6092-6e07-4d63-addb-d8e1a6909666"
      },
      "source": [
        "# train\n",
        "y_pred = clf.predict(X_train_urut)\n",
        "print(classification_report(y_train_urut,y_pred),'\\n')"
      ],
      "id": "8012ae8f",
      "execution_count": 77,
      "outputs": [
        {
          "output_type": "stream",
          "name": "stdout",
          "text": [
            "              precision    recall  f1-score   support\n",
            "\n",
            "           0       0.87      0.98      0.92       144\n",
            "           1       1.00      0.88      0.94       144\n",
            "           2       0.94      0.93      0.93       144\n",
            "           3       1.00      1.00      1.00       144\n",
            "           4       1.00      1.00      1.00       144\n",
            "\n",
            "    accuracy                           0.96       720\n",
            "   macro avg       0.96      0.96      0.96       720\n",
            "weighted avg       0.96      0.96      0.96       720\n",
            " \n",
            "\n"
          ]
        }
      ]
    },
    {
      "cell_type": "code",
      "metadata": {
        "id": "8b4489df"
      },
      "source": [
        "X_val_urut[scls] = scale.transform(X_val_urut[scls])"
      ],
      "id": "8b4489df",
      "execution_count": 78,
      "outputs": []
    },
    {
      "cell_type": "code",
      "metadata": {
        "id": "e90d2f72",
        "colab": {
          "base_uri": "https://localhost:8080/"
        },
        "outputId": "6511fede-d936-4c8a-9ea7-6f2b0713043b"
      },
      "source": [
        "y_pred = clf.predict(X_val_urut)\n",
        "print(classification_report(y_val_urut,y_pred))"
      ],
      "id": "e90d2f72",
      "execution_count": 79,
      "outputs": [
        {
          "output_type": "stream",
          "name": "stdout",
          "text": [
            "              precision    recall  f1-score   support\n",
            "\n",
            "           1       0.00      0.00      0.00         0\n",
            "           2       0.00      0.00      0.00         0\n",
            "           4       1.00      0.14      0.25        21\n",
            "\n",
            "    accuracy                           0.14        21\n",
            "   macro avg       0.33      0.05      0.08        21\n",
            "weighted avg       1.00      0.14      0.25        21\n",
            "\n"
          ]
        }
      ]
    },
    {
      "cell_type": "code",
      "metadata": {
        "id": "2a1260c1"
      },
      "source": [
        "nyoba = X_new_test.iloc[6:7,:]"
      ],
      "id": "2a1260c1",
      "execution_count": null,
      "outputs": []
    },
    {
      "cell_type": "code",
      "metadata": {
        "id": "b72f9cb2"
      },
      "source": [
        ""
      ],
      "id": "b72f9cb2",
      "execution_count": null,
      "outputs": []
    },
    {
      "cell_type": "code",
      "metadata": {
        "id": "af778e9a"
      },
      "source": [
        ""
      ],
      "id": "af778e9a",
      "execution_count": null,
      "outputs": []
    }
  ]
}