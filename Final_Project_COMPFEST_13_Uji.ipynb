{
  "nbformat": 4,
  "nbformat_minor": 0,
  "metadata": {
    "colab": {
      "name": "Uji Final Project.ipynb",
      "provenance": []
    },
    "kernelspec": {
      "name": "python3",
      "display_name": "Python 3"
    },
    "language_info": {
      "name": "python"
    }
  },
  "cells": [
    {
      "cell_type": "code",
      "metadata": {
        "id": "-Avv9SObTM_6"
      },
      "source": [
        "import pandas as pd\n",
        "from scipy import stats\n",
        "from scipy.stats import ttest_ind"
      ],
      "execution_count": null,
      "outputs": []
    },
    {
      "cell_type": "code",
      "metadata": {
        "colab": {
          "base_uri": "https://localhost:8080/",
          "height": 409
        },
        "id": "NV8ChTEUTerF",
        "outputId": "802d0490-c019-4551-e198-0a82adf1a6cf"
      },
      "source": [
        "df_bobs = pd.read_excel('/content/drive/MyDrive/data_bobs.xlsx')\n",
        "df_bobs.head()"
      ],
      "execution_count": null,
      "outputs": [
        {
          "output_type": "execute_result",
          "data": {
            "text/html": [
              "<div>\n",
              "<style scoped>\n",
              "    .dataframe tbody tr th:only-of-type {\n",
              "        vertical-align: middle;\n",
              "    }\n",
              "\n",
              "    .dataframe tbody tr th {\n",
              "        vertical-align: top;\n",
              "    }\n",
              "\n",
              "    .dataframe thead th {\n",
              "        text-align: right;\n",
              "    }\n",
              "</style>\n",
              "<table border=\"1\" class=\"dataframe\">\n",
              "  <thead>\n",
              "    <tr style=\"text-align: right;\">\n",
              "      <th></th>\n",
              "      <th>Unnamed: 0</th>\n",
              "      <th>Tanggal</th>\n",
              "      <th>retail_and_recreation_percent_change_from_baseline</th>\n",
              "      <th>grocery_and_pharmacy_percent_change_from_baseline</th>\n",
              "      <th>parks_percent_change_from_baseline</th>\n",
              "      <th>transit_stations_percent_change_from_baseline</th>\n",
              "      <th>workplaces_percent_change_from_baseline</th>\n",
              "      <th>residential_percent_change_from_baseline</th>\n",
              "      <th>Category</th>\n",
              "    </tr>\n",
              "  </thead>\n",
              "  <tbody>\n",
              "    <tr>\n",
              "      <th>0</th>\n",
              "      <td>1</td>\n",
              "      <td>15-01-2021</td>\n",
              "      <td>-36</td>\n",
              "      <td>-22</td>\n",
              "      <td>-48</td>\n",
              "      <td>-49</td>\n",
              "      <td>-40</td>\n",
              "      <td>13</td>\n",
              "      <td>Sebelum PPKM Level 4</td>\n",
              "    </tr>\n",
              "    <tr>\n",
              "      <th>1</th>\n",
              "      <td>2</td>\n",
              "      <td>16-01-2021</td>\n",
              "      <td>-39</td>\n",
              "      <td>-21</td>\n",
              "      <td>-53</td>\n",
              "      <td>-44</td>\n",
              "      <td>-28</td>\n",
              "      <td>8</td>\n",
              "      <td>Sebelum PPKM Level 4</td>\n",
              "    </tr>\n",
              "    <tr>\n",
              "      <th>2</th>\n",
              "      <td>3</td>\n",
              "      <td>17-01-2021</td>\n",
              "      <td>-41</td>\n",
              "      <td>-24</td>\n",
              "      <td>-57</td>\n",
              "      <td>-43</td>\n",
              "      <td>-23</td>\n",
              "      <td>8</td>\n",
              "      <td>Sebelum PPKM Level 4</td>\n",
              "    </tr>\n",
              "    <tr>\n",
              "      <th>3</th>\n",
              "      <td>4</td>\n",
              "      <td>18-01-2021</td>\n",
              "      <td>-39</td>\n",
              "      <td>-24</td>\n",
              "      <td>-55</td>\n",
              "      <td>-48</td>\n",
              "      <td>-41</td>\n",
              "      <td>14</td>\n",
              "      <td>Sebelum PPKM Level 4</td>\n",
              "    </tr>\n",
              "    <tr>\n",
              "      <th>4</th>\n",
              "      <td>5</td>\n",
              "      <td>19-01-2021</td>\n",
              "      <td>-39</td>\n",
              "      <td>-23</td>\n",
              "      <td>-56</td>\n",
              "      <td>-49</td>\n",
              "      <td>-41</td>\n",
              "      <td>14</td>\n",
              "      <td>Sebelum PPKM Level 4</td>\n",
              "    </tr>\n",
              "  </tbody>\n",
              "</table>\n",
              "</div>"
            ],
            "text/plain": [
              "   Unnamed: 0  ...              Category\n",
              "0           1  ...  Sebelum PPKM Level 4\n",
              "1           2  ...  Sebelum PPKM Level 4\n",
              "2           3  ...  Sebelum PPKM Level 4\n",
              "3           4  ...  Sebelum PPKM Level 4\n",
              "4           5  ...  Sebelum PPKM Level 4\n",
              "\n",
              "[5 rows x 9 columns]"
            ]
          },
          "metadata": {},
          "execution_count": 2
        }
      ]
    },
    {
      "cell_type": "code",
      "metadata": {
        "colab": {
          "base_uri": "https://localhost:8080/",
          "height": 744
        },
        "id": "maOn0KiFThgR",
        "outputId": "afbee0b8-3bfb-47c3-8865-7c8952a65279"
      },
      "source": [
        "df_bobs.drop('Unnamed: 0', axis='columns', inplace=True)\n",
        "df_bobs"
      ],
      "execution_count": null,
      "outputs": [
        {
          "output_type": "execute_result",
          "data": {
            "text/html": [
              "<div>\n",
              "<style scoped>\n",
              "    .dataframe tbody tr th:only-of-type {\n",
              "        vertical-align: middle;\n",
              "    }\n",
              "\n",
              "    .dataframe tbody tr th {\n",
              "        vertical-align: top;\n",
              "    }\n",
              "\n",
              "    .dataframe thead th {\n",
              "        text-align: right;\n",
              "    }\n",
              "</style>\n",
              "<table border=\"1\" class=\"dataframe\">\n",
              "  <thead>\n",
              "    <tr style=\"text-align: right;\">\n",
              "      <th></th>\n",
              "      <th>Tanggal</th>\n",
              "      <th>retail_and_recreation_percent_change_from_baseline</th>\n",
              "      <th>grocery_and_pharmacy_percent_change_from_baseline</th>\n",
              "      <th>parks_percent_change_from_baseline</th>\n",
              "      <th>transit_stations_percent_change_from_baseline</th>\n",
              "      <th>workplaces_percent_change_from_baseline</th>\n",
              "      <th>residential_percent_change_from_baseline</th>\n",
              "      <th>Category</th>\n",
              "    </tr>\n",
              "  </thead>\n",
              "  <tbody>\n",
              "    <tr>\n",
              "      <th>0</th>\n",
              "      <td>15-01-2021</td>\n",
              "      <td>-36</td>\n",
              "      <td>-22</td>\n",
              "      <td>-48</td>\n",
              "      <td>-49</td>\n",
              "      <td>-40</td>\n",
              "      <td>13</td>\n",
              "      <td>Sebelum PPKM Level 4</td>\n",
              "    </tr>\n",
              "    <tr>\n",
              "      <th>1</th>\n",
              "      <td>16-01-2021</td>\n",
              "      <td>-39</td>\n",
              "      <td>-21</td>\n",
              "      <td>-53</td>\n",
              "      <td>-44</td>\n",
              "      <td>-28</td>\n",
              "      <td>8</td>\n",
              "      <td>Sebelum PPKM Level 4</td>\n",
              "    </tr>\n",
              "    <tr>\n",
              "      <th>2</th>\n",
              "      <td>17-01-2021</td>\n",
              "      <td>-41</td>\n",
              "      <td>-24</td>\n",
              "      <td>-57</td>\n",
              "      <td>-43</td>\n",
              "      <td>-23</td>\n",
              "      <td>8</td>\n",
              "      <td>Sebelum PPKM Level 4</td>\n",
              "    </tr>\n",
              "    <tr>\n",
              "      <th>3</th>\n",
              "      <td>18-01-2021</td>\n",
              "      <td>-39</td>\n",
              "      <td>-24</td>\n",
              "      <td>-55</td>\n",
              "      <td>-48</td>\n",
              "      <td>-41</td>\n",
              "      <td>14</td>\n",
              "      <td>Sebelum PPKM Level 4</td>\n",
              "    </tr>\n",
              "    <tr>\n",
              "      <th>4</th>\n",
              "      <td>19-01-2021</td>\n",
              "      <td>-39</td>\n",
              "      <td>-23</td>\n",
              "      <td>-56</td>\n",
              "      <td>-49</td>\n",
              "      <td>-41</td>\n",
              "      <td>14</td>\n",
              "      <td>Sebelum PPKM Level 4</td>\n",
              "    </tr>\n",
              "    <tr>\n",
              "      <th>5</th>\n",
              "      <td>20-01-2021</td>\n",
              "      <td>-38</td>\n",
              "      <td>-23</td>\n",
              "      <td>-55</td>\n",
              "      <td>-49</td>\n",
              "      <td>-40</td>\n",
              "      <td>14</td>\n",
              "      <td>Sebelum PPKM Level 4</td>\n",
              "    </tr>\n",
              "    <tr>\n",
              "      <th>6</th>\n",
              "      <td>21-01-2021</td>\n",
              "      <td>-39</td>\n",
              "      <td>-24</td>\n",
              "      <td>-54</td>\n",
              "      <td>-49</td>\n",
              "      <td>-40</td>\n",
              "      <td>14</td>\n",
              "      <td>PPKM</td>\n",
              "    </tr>\n",
              "    <tr>\n",
              "      <th>7</th>\n",
              "      <td>22-01-2021</td>\n",
              "      <td>-35</td>\n",
              "      <td>-20</td>\n",
              "      <td>-47</td>\n",
              "      <td>-48</td>\n",
              "      <td>-37</td>\n",
              "      <td>15</td>\n",
              "      <td>PPKM</td>\n",
              "    </tr>\n",
              "    <tr>\n",
              "      <th>8</th>\n",
              "      <td>23-01-2021</td>\n",
              "      <td>-37</td>\n",
              "      <td>-17</td>\n",
              "      <td>-52</td>\n",
              "      <td>-41</td>\n",
              "      <td>-23</td>\n",
              "      <td>9</td>\n",
              "      <td>PPKM</td>\n",
              "    </tr>\n",
              "    <tr>\n",
              "      <th>9</th>\n",
              "      <td>24-01-2021</td>\n",
              "      <td>-48</td>\n",
              "      <td>-33</td>\n",
              "      <td>-71</td>\n",
              "      <td>-50</td>\n",
              "      <td>-26</td>\n",
              "      <td>13</td>\n",
              "      <td>PPKM</td>\n",
              "    </tr>\n",
              "    <tr>\n",
              "      <th>10</th>\n",
              "      <td>25-01-2021</td>\n",
              "      <td>-34</td>\n",
              "      <td>-16</td>\n",
              "      <td>-52</td>\n",
              "      <td>-45</td>\n",
              "      <td>-37</td>\n",
              "      <td>14</td>\n",
              "      <td>PPKM</td>\n",
              "    </tr>\n",
              "    <tr>\n",
              "      <th>11</th>\n",
              "      <td>26-01-2021</td>\n",
              "      <td>-36</td>\n",
              "      <td>-18</td>\n",
              "      <td>-55</td>\n",
              "      <td>-45</td>\n",
              "      <td>-38</td>\n",
              "      <td>14</td>\n",
              "      <td>PPKM</td>\n",
              "    </tr>\n",
              "  </tbody>\n",
              "</table>\n",
              "</div>"
            ],
            "text/plain": [
              "       Tanggal  ...              Category\n",
              "0   15-01-2021  ...  Sebelum PPKM Level 4\n",
              "1   16-01-2021  ...  Sebelum PPKM Level 4\n",
              "2   17-01-2021  ...  Sebelum PPKM Level 4\n",
              "3   18-01-2021  ...  Sebelum PPKM Level 4\n",
              "4   19-01-2021  ...  Sebelum PPKM Level 4\n",
              "5   20-01-2021  ...  Sebelum PPKM Level 4\n",
              "6   21-01-2021  ...                  PPKM\n",
              "7   22-01-2021  ...                  PPKM\n",
              "8   23-01-2021  ...                  PPKM\n",
              "9   24-01-2021  ...                  PPKM\n",
              "10  25-01-2021  ...                  PPKM\n",
              "11  26-01-2021  ...                  PPKM\n",
              "\n",
              "[12 rows x 8 columns]"
            ]
          },
          "metadata": {},
          "execution_count": 3
        }
      ]
    },
    {
      "cell_type": "code",
      "metadata": {
        "colab": {
          "base_uri": "https://localhost:8080/",
          "height": 204
        },
        "id": "mn7ww96YT77v",
        "outputId": "9be48e23-dc15-4477-cf7d-0870abaa6e36"
      },
      "source": [
        "df_bobs = df_bobs.rename(columns = {'retail_and_recreation_percent_change_from_baseline':'retail_recreation', 'grocery_and_pharmacy_percent_change_from_baseline':'grocery_pharmacy',\t'parks_percent_change_from_baseline':'parks',\t'transit_stations_percent_change_from_baseline':'transit_stations',\t'workplaces_percent_change_from_baseline':'workplaces',\t'residential_percent_change_from_baseline':'residential'}, inplace=False)\n",
        "df_bobs.head()"
      ],
      "execution_count": null,
      "outputs": [
        {
          "output_type": "execute_result",
          "data": {
            "text/html": [
              "<div>\n",
              "<style scoped>\n",
              "    .dataframe tbody tr th:only-of-type {\n",
              "        vertical-align: middle;\n",
              "    }\n",
              "\n",
              "    .dataframe tbody tr th {\n",
              "        vertical-align: top;\n",
              "    }\n",
              "\n",
              "    .dataframe thead th {\n",
              "        text-align: right;\n",
              "    }\n",
              "</style>\n",
              "<table border=\"1\" class=\"dataframe\">\n",
              "  <thead>\n",
              "    <tr style=\"text-align: right;\">\n",
              "      <th></th>\n",
              "      <th>Tanggal</th>\n",
              "      <th>retail_recreation</th>\n",
              "      <th>grocery_pharmacy</th>\n",
              "      <th>parks</th>\n",
              "      <th>transit_stations</th>\n",
              "      <th>workplaces</th>\n",
              "      <th>residential</th>\n",
              "      <th>Category</th>\n",
              "    </tr>\n",
              "  </thead>\n",
              "  <tbody>\n",
              "    <tr>\n",
              "      <th>0</th>\n",
              "      <td>15-01-2021</td>\n",
              "      <td>-36</td>\n",
              "      <td>-22</td>\n",
              "      <td>-48</td>\n",
              "      <td>-49</td>\n",
              "      <td>-40</td>\n",
              "      <td>13</td>\n",
              "      <td>Sebelum PPKM Level 4</td>\n",
              "    </tr>\n",
              "    <tr>\n",
              "      <th>1</th>\n",
              "      <td>16-01-2021</td>\n",
              "      <td>-39</td>\n",
              "      <td>-21</td>\n",
              "      <td>-53</td>\n",
              "      <td>-44</td>\n",
              "      <td>-28</td>\n",
              "      <td>8</td>\n",
              "      <td>Sebelum PPKM Level 4</td>\n",
              "    </tr>\n",
              "    <tr>\n",
              "      <th>2</th>\n",
              "      <td>17-01-2021</td>\n",
              "      <td>-41</td>\n",
              "      <td>-24</td>\n",
              "      <td>-57</td>\n",
              "      <td>-43</td>\n",
              "      <td>-23</td>\n",
              "      <td>8</td>\n",
              "      <td>Sebelum PPKM Level 4</td>\n",
              "    </tr>\n",
              "    <tr>\n",
              "      <th>3</th>\n",
              "      <td>18-01-2021</td>\n",
              "      <td>-39</td>\n",
              "      <td>-24</td>\n",
              "      <td>-55</td>\n",
              "      <td>-48</td>\n",
              "      <td>-41</td>\n",
              "      <td>14</td>\n",
              "      <td>Sebelum PPKM Level 4</td>\n",
              "    </tr>\n",
              "    <tr>\n",
              "      <th>4</th>\n",
              "      <td>19-01-2021</td>\n",
              "      <td>-39</td>\n",
              "      <td>-23</td>\n",
              "      <td>-56</td>\n",
              "      <td>-49</td>\n",
              "      <td>-41</td>\n",
              "      <td>14</td>\n",
              "      <td>Sebelum PPKM Level 4</td>\n",
              "    </tr>\n",
              "  </tbody>\n",
              "</table>\n",
              "</div>"
            ],
            "text/plain": [
              "      Tanggal  retail_recreation  ...  residential              Category\n",
              "0  15-01-2021                -36  ...           13  Sebelum PPKM Level 4\n",
              "1  16-01-2021                -39  ...            8  Sebelum PPKM Level 4\n",
              "2  17-01-2021                -41  ...            8  Sebelum PPKM Level 4\n",
              "3  18-01-2021                -39  ...           14  Sebelum PPKM Level 4\n",
              "4  19-01-2021                -39  ...           14  Sebelum PPKM Level 4\n",
              "\n",
              "[5 rows x 8 columns]"
            ]
          },
          "metadata": {},
          "execution_count": 4
        }
      ]
    },
    {
      "cell_type": "code",
      "metadata": {
        "colab": {
          "base_uri": "https://localhost:8080/"
        },
        "id": "0KgF300chEf8",
        "outputId": "c0906a3a-6191-4df8-9b31-3181e7c43b1b"
      },
      "source": [
        "df_bobs.columns"
      ],
      "execution_count": null,
      "outputs": [
        {
          "output_type": "execute_result",
          "data": {
            "text/plain": [
              "Index(['Tanggal', 'retail_recreation', 'grocery_pharmacy', 'parks',\n",
              "       'transit_stations', 'workplaces', 'residential', 'Category'],\n",
              "      dtype='object')"
            ]
          },
          "metadata": {},
          "execution_count": 29
        }
      ]
    },
    {
      "cell_type": "code",
      "metadata": {
        "colab": {
          "base_uri": "https://localhost:8080/",
          "height": 141
        },
        "id": "hTctTlZhT-Am",
        "outputId": "9beef596-736d-4afd-d196-1bdeb8dab2bc"
      },
      "source": [
        "df_bobs.groupby('Category').mean()"
      ],
      "execution_count": null,
      "outputs": [
        {
          "output_type": "execute_result",
          "data": {
            "text/html": [
              "<div>\n",
              "<style scoped>\n",
              "    .dataframe tbody tr th:only-of-type {\n",
              "        vertical-align: middle;\n",
              "    }\n",
              "\n",
              "    .dataframe tbody tr th {\n",
              "        vertical-align: top;\n",
              "    }\n",
              "\n",
              "    .dataframe thead th {\n",
              "        text-align: right;\n",
              "    }\n",
              "</style>\n",
              "<table border=\"1\" class=\"dataframe\">\n",
              "  <thead>\n",
              "    <tr style=\"text-align: right;\">\n",
              "      <th></th>\n",
              "      <th>retail_recreation</th>\n",
              "      <th>grocery_pharmacy</th>\n",
              "      <th>parks</th>\n",
              "      <th>transit_stations</th>\n",
              "      <th>workplaces</th>\n",
              "      <th>residential</th>\n",
              "    </tr>\n",
              "    <tr>\n",
              "      <th>Category</th>\n",
              "      <th></th>\n",
              "      <th></th>\n",
              "      <th></th>\n",
              "      <th></th>\n",
              "      <th></th>\n",
              "      <th></th>\n",
              "    </tr>\n",
              "  </thead>\n",
              "  <tbody>\n",
              "    <tr>\n",
              "      <th>PPKM</th>\n",
              "      <td>-38.166667</td>\n",
              "      <td>-21.333333</td>\n",
              "      <td>-55.166667</td>\n",
              "      <td>-46.333333</td>\n",
              "      <td>-33.5</td>\n",
              "      <td>13.166667</td>\n",
              "    </tr>\n",
              "    <tr>\n",
              "      <th>Sebelum PPKM Level 4</th>\n",
              "      <td>-38.666667</td>\n",
              "      <td>-22.833333</td>\n",
              "      <td>-54.000000</td>\n",
              "      <td>-47.000000</td>\n",
              "      <td>-35.5</td>\n",
              "      <td>11.833333</td>\n",
              "    </tr>\n",
              "  </tbody>\n",
              "</table>\n",
              "</div>"
            ],
            "text/plain": [
              "                      retail_recreation  ...  residential\n",
              "Category                                 ...             \n",
              "PPKM                         -38.166667  ...    13.166667\n",
              "Sebelum PPKM Level 4         -38.666667  ...    11.833333\n",
              "\n",
              "[2 rows x 6 columns]"
            ]
          },
          "metadata": {},
          "execution_count": 30
        }
      ]
    },
    {
      "cell_type": "code",
      "metadata": {
        "colab": {
          "base_uri": "https://localhost:8080/"
        },
        "id": "KQUbNF04UADH",
        "outputId": "76ceff53-15a9-4b84-ed1e-eb86783e66de"
      },
      "source": [
        "cat1 = df_bobs[df_bobs['Category']=='Sebelum PPKM Level 4']\n",
        "cat2 = df_bobs[df_bobs['Category']=='PPKM']\n",
        "ttest_ind(cat1['retail_recreation'],cat2['retail_recreation'])"
      ],
      "execution_count": null,
      "outputs": [
        {
          "output_type": "execute_result",
          "data": {
            "text/plain": [
              "Ttest_indResult(statistic=-0.22808577638091165, pvalue=0.8241757293768789)"
            ]
          },
          "metadata": {},
          "execution_count": 31
        }
      ]
    },
    {
      "cell_type": "code",
      "metadata": {
        "colab": {
          "base_uri": "https://localhost:8080/"
        },
        "id": "4in7Kd8-UCVh",
        "outputId": "7d715d0c-bc7d-48a7-c92b-ed5a62bef99f"
      },
      "source": [
        "cat1 = df_bobs[df_bobs['Category']=='Sebelum PPKM Level 4']\n",
        "cat2 = df_bobs[df_bobs['Category']=='PPKM']\n",
        "ttest_ind(cat1[['retail_recreation',\t'grocery_pharmacy',\t'parks',\t'transit_stations',\t'workplaces',\t'residential']],cat2[['retail_recreation',\t'grocery_pharmacy',\t'parks',\t'transit_stations',\t'workplaces',\t'residential']])"
      ],
      "execution_count": null,
      "outputs": [
        {
          "output_type": "execute_result",
          "data": {
            "text/plain": [
              "Ttest_indResult(statistic=array([-0.22808578, -0.56672186,  0.32322997, -0.37796447, -0.46004371,\n",
              "       -0.88779352]), pvalue=array([0.82417573, 0.58339851, 0.75317877, 0.71335608, 0.6553251 ,\n",
              "       0.39550327]))"
            ]
          },
          "metadata": {},
          "execution_count": 32
        }
      ]
    },
    {
      "cell_type": "code",
      "metadata": {
        "colab": {
          "base_uri": "https://localhost:8080/",
          "height": 755
        },
        "id": "8zWhssT7UfOG",
        "outputId": "7ec3f98b-dd70-4af5-9b93-b1899b0a6dca"
      },
      "source": [
        "df_fay = pd.read_excel('/content/drive/MyDrive/data_ttest1.xlsx')\n",
        "df_fay"
      ],
      "execution_count": null,
      "outputs": [
        {
          "output_type": "execute_result",
          "data": {
            "text/html": [
              "<div>\n",
              "<style scoped>\n",
              "    .dataframe tbody tr th:only-of-type {\n",
              "        vertical-align: middle;\n",
              "    }\n",
              "\n",
              "    .dataframe tbody tr th {\n",
              "        vertical-align: top;\n",
              "    }\n",
              "\n",
              "    .dataframe thead th {\n",
              "        text-align: right;\n",
              "    }\n",
              "</style>\n",
              "<table border=\"1\" class=\"dataframe\">\n",
              "  <thead>\n",
              "    <tr style=\"text-align: right;\">\n",
              "      <th></th>\n",
              "      <th>Unnamed: 0</th>\n",
              "      <th>Tanggal</th>\n",
              "      <th>retail_and_recreation_percent_change_from_baseline</th>\n",
              "      <th>grocery_and_pharmacy_percent_change_from_baseline</th>\n",
              "      <th>parks_percent_change_from_baseline</th>\n",
              "      <th>transit_stations_percent_change_from_baseline</th>\n",
              "      <th>workplaces_percent_change_from_baseline</th>\n",
              "      <th>residential_percent_change_from_baseline</th>\n",
              "    </tr>\n",
              "  </thead>\n",
              "  <tbody>\n",
              "    <tr>\n",
              "      <th>0</th>\n",
              "      <td>1</td>\n",
              "      <td>01-08-2021</td>\n",
              "      <td>-42</td>\n",
              "      <td>-5</td>\n",
              "      <td>-67</td>\n",
              "      <td>-51</td>\n",
              "      <td>-22</td>\n",
              "      <td>12</td>\n",
              "    </tr>\n",
              "    <tr>\n",
              "      <th>1</th>\n",
              "      <td>2</td>\n",
              "      <td>02-08-2021</td>\n",
              "      <td>-32</td>\n",
              "      <td>2</td>\n",
              "      <td>-51</td>\n",
              "      <td>-51</td>\n",
              "      <td>-41</td>\n",
              "      <td>16</td>\n",
              "    </tr>\n",
              "    <tr>\n",
              "      <th>2</th>\n",
              "      <td>3</td>\n",
              "      <td>03-08-2021</td>\n",
              "      <td>-34</td>\n",
              "      <td>-1</td>\n",
              "      <td>-53</td>\n",
              "      <td>-51</td>\n",
              "      <td>-42</td>\n",
              "      <td>16</td>\n",
              "    </tr>\n",
              "    <tr>\n",
              "      <th>3</th>\n",
              "      <td>4</td>\n",
              "      <td>04-08-2021</td>\n",
              "      <td>-34</td>\n",
              "      <td>-2</td>\n",
              "      <td>-52</td>\n",
              "      <td>-51</td>\n",
              "      <td>-41</td>\n",
              "      <td>16</td>\n",
              "    </tr>\n",
              "    <tr>\n",
              "      <th>4</th>\n",
              "      <td>5</td>\n",
              "      <td>05-08-2021</td>\n",
              "      <td>-37</td>\n",
              "      <td>-6</td>\n",
              "      <td>-55</td>\n",
              "      <td>-51</td>\n",
              "      <td>-41</td>\n",
              "      <td>17</td>\n",
              "    </tr>\n",
              "    <tr>\n",
              "      <th>5</th>\n",
              "      <td>6</td>\n",
              "      <td>06-08-2021</td>\n",
              "      <td>-31</td>\n",
              "      <td>2</td>\n",
              "      <td>-45</td>\n",
              "      <td>-51</td>\n",
              "      <td>-39</td>\n",
              "      <td>17</td>\n",
              "    </tr>\n",
              "    <tr>\n",
              "      <th>6</th>\n",
              "      <td>7</td>\n",
              "      <td>07-08-2021</td>\n",
              "      <td>-36</td>\n",
              "      <td>2</td>\n",
              "      <td>-56</td>\n",
              "      <td>-46</td>\n",
              "      <td>-25</td>\n",
              "      <td>11</td>\n",
              "    </tr>\n",
              "    <tr>\n",
              "      <th>7</th>\n",
              "      <td>8</td>\n",
              "      <td>08-08-2021</td>\n",
              "      <td>-39</td>\n",
              "      <td>-5</td>\n",
              "      <td>-63</td>\n",
              "      <td>-49</td>\n",
              "      <td>-19</td>\n",
              "      <td>10</td>\n",
              "    </tr>\n",
              "    <tr>\n",
              "      <th>8</th>\n",
              "      <td>9</td>\n",
              "      <td>09-08-2021</td>\n",
              "      <td>-32</td>\n",
              "      <td>-2</td>\n",
              "      <td>-50</td>\n",
              "      <td>-50</td>\n",
              "      <td>-40</td>\n",
              "      <td>15</td>\n",
              "    </tr>\n",
              "    <tr>\n",
              "      <th>9</th>\n",
              "      <td>10</td>\n",
              "      <td>10-08-2021</td>\n",
              "      <td>-35</td>\n",
              "      <td>-6</td>\n",
              "      <td>-55</td>\n",
              "      <td>-51</td>\n",
              "      <td>-42</td>\n",
              "      <td>16</td>\n",
              "    </tr>\n",
              "    <tr>\n",
              "      <th>10</th>\n",
              "      <td>11</td>\n",
              "      <td>11-08-2021</td>\n",
              "      <td>-34</td>\n",
              "      <td>-5</td>\n",
              "      <td>-51</td>\n",
              "      <td>-60</td>\n",
              "      <td>-67</td>\n",
              "      <td>22</td>\n",
              "    </tr>\n",
              "    <tr>\n",
              "      <th>11</th>\n",
              "      <td>12</td>\n",
              "      <td>12-08-2021</td>\n",
              "      <td>-30</td>\n",
              "      <td>-3</td>\n",
              "      <td>-50</td>\n",
              "      <td>-48</td>\n",
              "      <td>-37</td>\n",
              "      <td>14</td>\n",
              "    </tr>\n",
              "    <tr>\n",
              "      <th>12</th>\n",
              "      <td>13</td>\n",
              "      <td>13-08-2021</td>\n",
              "      <td>-29</td>\n",
              "      <td>-1</td>\n",
              "      <td>-45</td>\n",
              "      <td>-48</td>\n",
              "      <td>-36</td>\n",
              "      <td>16</td>\n",
              "    </tr>\n",
              "    <tr>\n",
              "      <th>13</th>\n",
              "      <td>14</td>\n",
              "      <td>14-08-2021</td>\n",
              "      <td>-33</td>\n",
              "      <td>0</td>\n",
              "      <td>-54</td>\n",
              "      <td>-43</td>\n",
              "      <td>-20</td>\n",
              "      <td>10</td>\n",
              "    </tr>\n",
              "  </tbody>\n",
              "</table>\n",
              "</div>"
            ],
            "text/plain": [
              "    Unnamed: 0  ... residential_percent_change_from_baseline\n",
              "0            1  ...                                       12\n",
              "1            2  ...                                       16\n",
              "2            3  ...                                       16\n",
              "3            4  ...                                       16\n",
              "4            5  ...                                       17\n",
              "5            6  ...                                       17\n",
              "6            7  ...                                       11\n",
              "7            8  ...                                       10\n",
              "8            9  ...                                       15\n",
              "9           10  ...                                       16\n",
              "10          11  ...                                       22\n",
              "11          12  ...                                       14\n",
              "12          13  ...                                       16\n",
              "13          14  ...                                       10\n",
              "\n",
              "[14 rows x 8 columns]"
            ]
          },
          "metadata": {},
          "execution_count": 9
        }
      ]
    },
    {
      "cell_type": "code",
      "metadata": {
        "colab": {
          "base_uri": "https://localhost:8080/",
          "height": 738
        },
        "id": "vInMTH4cq0Ei",
        "outputId": "a501cfb6-e169-4bfa-acb8-4f699f3a8af8"
      },
      "source": [
        "df_fay.drop('Unnamed: 0', axis='columns', inplace=True)\n",
        "df_fay"
      ],
      "execution_count": null,
      "outputs": [
        {
          "output_type": "execute_result",
          "data": {
            "text/html": [
              "<div>\n",
              "<style scoped>\n",
              "    .dataframe tbody tr th:only-of-type {\n",
              "        vertical-align: middle;\n",
              "    }\n",
              "\n",
              "    .dataframe tbody tr th {\n",
              "        vertical-align: top;\n",
              "    }\n",
              "\n",
              "    .dataframe thead th {\n",
              "        text-align: right;\n",
              "    }\n",
              "</style>\n",
              "<table border=\"1\" class=\"dataframe\">\n",
              "  <thead>\n",
              "    <tr style=\"text-align: right;\">\n",
              "      <th></th>\n",
              "      <th>Tanggal</th>\n",
              "      <th>retail_and_recreation_percent_change_from_baseline</th>\n",
              "      <th>grocery_and_pharmacy_percent_change_from_baseline</th>\n",
              "      <th>parks_percent_change_from_baseline</th>\n",
              "      <th>transit_stations_percent_change_from_baseline</th>\n",
              "      <th>workplaces_percent_change_from_baseline</th>\n",
              "      <th>residential_percent_change_from_baseline</th>\n",
              "    </tr>\n",
              "  </thead>\n",
              "  <tbody>\n",
              "    <tr>\n",
              "      <th>0</th>\n",
              "      <td>01-08-2021</td>\n",
              "      <td>-42</td>\n",
              "      <td>-5</td>\n",
              "      <td>-67</td>\n",
              "      <td>-51</td>\n",
              "      <td>-22</td>\n",
              "      <td>12</td>\n",
              "    </tr>\n",
              "    <tr>\n",
              "      <th>1</th>\n",
              "      <td>02-08-2021</td>\n",
              "      <td>-32</td>\n",
              "      <td>2</td>\n",
              "      <td>-51</td>\n",
              "      <td>-51</td>\n",
              "      <td>-41</td>\n",
              "      <td>16</td>\n",
              "    </tr>\n",
              "    <tr>\n",
              "      <th>2</th>\n",
              "      <td>03-08-2021</td>\n",
              "      <td>-34</td>\n",
              "      <td>-1</td>\n",
              "      <td>-53</td>\n",
              "      <td>-51</td>\n",
              "      <td>-42</td>\n",
              "      <td>16</td>\n",
              "    </tr>\n",
              "    <tr>\n",
              "      <th>3</th>\n",
              "      <td>04-08-2021</td>\n",
              "      <td>-34</td>\n",
              "      <td>-2</td>\n",
              "      <td>-52</td>\n",
              "      <td>-51</td>\n",
              "      <td>-41</td>\n",
              "      <td>16</td>\n",
              "    </tr>\n",
              "    <tr>\n",
              "      <th>4</th>\n",
              "      <td>05-08-2021</td>\n",
              "      <td>-37</td>\n",
              "      <td>-6</td>\n",
              "      <td>-55</td>\n",
              "      <td>-51</td>\n",
              "      <td>-41</td>\n",
              "      <td>17</td>\n",
              "    </tr>\n",
              "    <tr>\n",
              "      <th>5</th>\n",
              "      <td>06-08-2021</td>\n",
              "      <td>-31</td>\n",
              "      <td>2</td>\n",
              "      <td>-45</td>\n",
              "      <td>-51</td>\n",
              "      <td>-39</td>\n",
              "      <td>17</td>\n",
              "    </tr>\n",
              "    <tr>\n",
              "      <th>6</th>\n",
              "      <td>07-08-2021</td>\n",
              "      <td>-36</td>\n",
              "      <td>2</td>\n",
              "      <td>-56</td>\n",
              "      <td>-46</td>\n",
              "      <td>-25</td>\n",
              "      <td>11</td>\n",
              "    </tr>\n",
              "    <tr>\n",
              "      <th>7</th>\n",
              "      <td>08-08-2021</td>\n",
              "      <td>-39</td>\n",
              "      <td>-5</td>\n",
              "      <td>-63</td>\n",
              "      <td>-49</td>\n",
              "      <td>-19</td>\n",
              "      <td>10</td>\n",
              "    </tr>\n",
              "    <tr>\n",
              "      <th>8</th>\n",
              "      <td>09-08-2021</td>\n",
              "      <td>-32</td>\n",
              "      <td>-2</td>\n",
              "      <td>-50</td>\n",
              "      <td>-50</td>\n",
              "      <td>-40</td>\n",
              "      <td>15</td>\n",
              "    </tr>\n",
              "    <tr>\n",
              "      <th>9</th>\n",
              "      <td>10-08-2021</td>\n",
              "      <td>-35</td>\n",
              "      <td>-6</td>\n",
              "      <td>-55</td>\n",
              "      <td>-51</td>\n",
              "      <td>-42</td>\n",
              "      <td>16</td>\n",
              "    </tr>\n",
              "    <tr>\n",
              "      <th>10</th>\n",
              "      <td>11-08-2021</td>\n",
              "      <td>-34</td>\n",
              "      <td>-5</td>\n",
              "      <td>-51</td>\n",
              "      <td>-60</td>\n",
              "      <td>-67</td>\n",
              "      <td>22</td>\n",
              "    </tr>\n",
              "    <tr>\n",
              "      <th>11</th>\n",
              "      <td>12-08-2021</td>\n",
              "      <td>-30</td>\n",
              "      <td>-3</td>\n",
              "      <td>-50</td>\n",
              "      <td>-48</td>\n",
              "      <td>-37</td>\n",
              "      <td>14</td>\n",
              "    </tr>\n",
              "    <tr>\n",
              "      <th>12</th>\n",
              "      <td>13-08-2021</td>\n",
              "      <td>-29</td>\n",
              "      <td>-1</td>\n",
              "      <td>-45</td>\n",
              "      <td>-48</td>\n",
              "      <td>-36</td>\n",
              "      <td>16</td>\n",
              "    </tr>\n",
              "    <tr>\n",
              "      <th>13</th>\n",
              "      <td>14-08-2021</td>\n",
              "      <td>-33</td>\n",
              "      <td>0</td>\n",
              "      <td>-54</td>\n",
              "      <td>-43</td>\n",
              "      <td>-20</td>\n",
              "      <td>10</td>\n",
              "    </tr>\n",
              "  </tbody>\n",
              "</table>\n",
              "</div>"
            ],
            "text/plain": [
              "       Tanggal  ...  residential_percent_change_from_baseline\n",
              "0   01-08-2021  ...                                        12\n",
              "1   02-08-2021  ...                                        16\n",
              "2   03-08-2021  ...                                        16\n",
              "3   04-08-2021  ...                                        16\n",
              "4   05-08-2021  ...                                        17\n",
              "5   06-08-2021  ...                                        17\n",
              "6   07-08-2021  ...                                        11\n",
              "7   08-08-2021  ...                                        10\n",
              "8   09-08-2021  ...                                        15\n",
              "9   10-08-2021  ...                                        16\n",
              "10  11-08-2021  ...                                        22\n",
              "11  12-08-2021  ...                                        14\n",
              "12  13-08-2021  ...                                        16\n",
              "13  14-08-2021  ...                                        10\n",
              "\n",
              "[14 rows x 7 columns]"
            ]
          },
          "metadata": {},
          "execution_count": 10
        }
      ]
    },
    {
      "cell_type": "code",
      "metadata": {
        "colab": {
          "base_uri": "https://localhost:8080/",
          "height": 204
        },
        "id": "DpCA0MdfrTp_",
        "outputId": "11077bdc-6a92-4995-8f36-10a5d5b5f2d9"
      },
      "source": [
        "df_fay = df_fay.rename(columns = {'retail_and_recreation_percent_change_from_baseline':'retail_recreation', 'grocery_and_pharmacy_percent_change_from_baseline':'grocery_pharmacy',\t'parks_percent_change_from_baseline':'parks',\t'transit_stations_percent_change_from_baseline':'transit_stations',\t'workplaces_percent_change_from_baseline':'workplaces',\t'residential_percent_change_from_baseline':'residential'}, inplace=False)\n",
        "df_fay.head()"
      ],
      "execution_count": null,
      "outputs": [
        {
          "output_type": "execute_result",
          "data": {
            "text/html": [
              "<div>\n",
              "<style scoped>\n",
              "    .dataframe tbody tr th:only-of-type {\n",
              "        vertical-align: middle;\n",
              "    }\n",
              "\n",
              "    .dataframe tbody tr th {\n",
              "        vertical-align: top;\n",
              "    }\n",
              "\n",
              "    .dataframe thead th {\n",
              "        text-align: right;\n",
              "    }\n",
              "</style>\n",
              "<table border=\"1\" class=\"dataframe\">\n",
              "  <thead>\n",
              "    <tr style=\"text-align: right;\">\n",
              "      <th></th>\n",
              "      <th>Tanggal</th>\n",
              "      <th>retail_recreation</th>\n",
              "      <th>grocery_pharmacy</th>\n",
              "      <th>parks</th>\n",
              "      <th>transit_stations</th>\n",
              "      <th>workplaces</th>\n",
              "      <th>residential</th>\n",
              "    </tr>\n",
              "  </thead>\n",
              "  <tbody>\n",
              "    <tr>\n",
              "      <th>0</th>\n",
              "      <td>01-08-2021</td>\n",
              "      <td>-42</td>\n",
              "      <td>-5</td>\n",
              "      <td>-67</td>\n",
              "      <td>-51</td>\n",
              "      <td>-22</td>\n",
              "      <td>12</td>\n",
              "    </tr>\n",
              "    <tr>\n",
              "      <th>1</th>\n",
              "      <td>02-08-2021</td>\n",
              "      <td>-32</td>\n",
              "      <td>2</td>\n",
              "      <td>-51</td>\n",
              "      <td>-51</td>\n",
              "      <td>-41</td>\n",
              "      <td>16</td>\n",
              "    </tr>\n",
              "    <tr>\n",
              "      <th>2</th>\n",
              "      <td>03-08-2021</td>\n",
              "      <td>-34</td>\n",
              "      <td>-1</td>\n",
              "      <td>-53</td>\n",
              "      <td>-51</td>\n",
              "      <td>-42</td>\n",
              "      <td>16</td>\n",
              "    </tr>\n",
              "    <tr>\n",
              "      <th>3</th>\n",
              "      <td>04-08-2021</td>\n",
              "      <td>-34</td>\n",
              "      <td>-2</td>\n",
              "      <td>-52</td>\n",
              "      <td>-51</td>\n",
              "      <td>-41</td>\n",
              "      <td>16</td>\n",
              "    </tr>\n",
              "    <tr>\n",
              "      <th>4</th>\n",
              "      <td>05-08-2021</td>\n",
              "      <td>-37</td>\n",
              "      <td>-6</td>\n",
              "      <td>-55</td>\n",
              "      <td>-51</td>\n",
              "      <td>-41</td>\n",
              "      <td>17</td>\n",
              "    </tr>\n",
              "  </tbody>\n",
              "</table>\n",
              "</div>"
            ],
            "text/plain": [
              "      Tanggal  retail_recreation  ...  workplaces  residential\n",
              "0  01-08-2021                -42  ...         -22           12\n",
              "1  02-08-2021                -32  ...         -41           16\n",
              "2  03-08-2021                -34  ...         -42           16\n",
              "3  04-08-2021                -34  ...         -41           16\n",
              "4  05-08-2021                -37  ...         -41           17\n",
              "\n",
              "[5 rows x 7 columns]"
            ]
          },
          "metadata": {},
          "execution_count": 11
        }
      ]
    },
    {
      "cell_type": "code",
      "metadata": {
        "colab": {
          "base_uri": "https://localhost:8080/"
        },
        "id": "TNrNGcqcVUnt",
        "outputId": "c1719337-796e-4993-c5e2-e3820648891e"
      },
      "source": [
        "df_fay.info()"
      ],
      "execution_count": null,
      "outputs": [
        {
          "output_type": "stream",
          "name": "stdout",
          "text": [
            "<class 'pandas.core.frame.DataFrame'>\n",
            "RangeIndex: 14 entries, 0 to 13\n",
            "Data columns (total 7 columns):\n",
            " #   Column             Non-Null Count  Dtype \n",
            "---  ------             --------------  ----- \n",
            " 0   Tanggal            14 non-null     object\n",
            " 1   retail_recreation  14 non-null     int64 \n",
            " 2   grocery_pharmacy   14 non-null     int64 \n",
            " 3   parks              14 non-null     int64 \n",
            " 4   transit_stations   14 non-null     int64 \n",
            " 5   workplaces         14 non-null     int64 \n",
            " 6   residential        14 non-null     int64 \n",
            "dtypes: int64(6), object(1)\n",
            "memory usage: 912.0+ bytes\n"
          ]
        }
      ]
    },
    {
      "cell_type": "code",
      "metadata": {
        "id": "bsjC9fRcTiQt"
      },
      "source": [
        "from scipy import stats as st"
      ],
      "execution_count": null,
      "outputs": []
    },
    {
      "cell_type": "code",
      "metadata": {
        "colab": {
          "base_uri": "https://localhost:8080/"
        },
        "id": "9f2dxGMtV4EG",
        "outputId": "bfc7d537-803f-4bac-f165-8d6c09007d76"
      },
      "source": [
        "st.ttest_1samp(df_fay[['retail_recreation',\t'grocery_pharmacy',\t'parks',\t'transit_stations',\t'workplaces', 'residential']], 0)"
      ],
      "execution_count": null,
      "outputs": [
        {
          "output_type": "execute_result",
          "data": {
            "text/plain": [
              "Ttest_1sampResult(statistic=array([-36.22107717,  -2.71094932, -33.30199133, -50.21946702,\n",
              "       -11.05592929,  17.07974948]), pvalue=array([1.92654626e-14, 1.78179653e-02, 5.68117052e-14, 2.83382351e-16,\n",
              "       5.54779701e-08, 2.75489864e-10]))"
            ]
          },
          "metadata": {},
          "execution_count": 24
        }
      ]
    },
    {
      "cell_type": "code",
      "metadata": {
        "id": "g08tRShVlesC",
        "colab": {
          "base_uri": "https://localhost:8080/"
        },
        "outputId": "24b86323-c174-48a2-d4f9-86f1ae230c29"
      },
      "source": [
        "st.ttest_1samp(df_fay[['retail_recreation',\t'grocery_pharmacy',\t'parks',\t'transit_stations',\t'workplaces', 'residential']], -5)"
      ],
      "execution_count": null,
      "outputs": [
        {
          "output_type": "execute_result",
          "data": {
            "text/plain": [
              "Ttest_1sampResult(statistic=array([-30.91673532,   3.6145991 , -30.1813228 , -45.20468429,\n",
              "        -9.54437646,  22.82774209]), pvalue=array([1.47620056e-13, 3.14288725e-03, 2.01058097e-13, 1.10449324e-15,\n",
              "       3.08231048e-07, 7.11721435e-12]))"
            ]
          },
          "metadata": {},
          "execution_count": 35
        }
      ]
    },
    {
      "cell_type": "code",
      "metadata": {
        "colab": {
          "base_uri": "https://localhost:8080/"
        },
        "id": "O5JaO0Grr_mk",
        "outputId": "5fffeac3-6dea-419a-cd78-f3538e57ff86"
      },
      "source": [
        "df_fay[['retail_recreation',\t'grocery_pharmacy',\t'parks',\t'transit_stations',\t'workplaces', 'residential']].mean()"
      ],
      "execution_count": null,
      "outputs": [
        {
          "output_type": "execute_result",
          "data": {
            "text/plain": [
              "retail_recreation   -34.142857\n",
              "grocery_pharmacy     -2.142857\n",
              "parks               -53.357143\n",
              "transit_stations    -50.071429\n",
              "workplaces          -36.571429\n",
              "residential          14.857143\n",
              "dtype: float64"
            ]
          },
          "metadata": {},
          "execution_count": 34
        }
      ]
    },
    {
      "cell_type": "code",
      "metadata": {
        "colab": {
          "base_uri": "https://localhost:8080/"
        },
        "id": "jPCrCMYHsKzT",
        "outputId": "66de9e8b-0f57-470a-9c1d-e3dee2485b28"
      },
      "source": [
        "df_fay[['retail_recreation',\t'grocery_pharmacy',\t'parks',\t'transit_stations',\t'workplaces', 'residential']].median()"
      ],
      "execution_count": null,
      "outputs": [
        {
          "output_type": "execute_result",
          "data": {
            "text/plain": [
              "retail_recreation   -34.0\n",
              "grocery_pharmacy     -2.0\n",
              "parks               -52.5\n",
              "transit_stations    -51.0\n",
              "workplaces          -39.5\n",
              "residential          16.0\n",
              "dtype: float64"
            ]
          },
          "metadata": {},
          "execution_count": 36
        }
      ]
    },
    {
      "cell_type": "code",
      "metadata": {
        "id": "q4hlKdyHsix4"
      },
      "source": [
        ""
      ],
      "execution_count": null,
      "outputs": []
    }
  ]
}